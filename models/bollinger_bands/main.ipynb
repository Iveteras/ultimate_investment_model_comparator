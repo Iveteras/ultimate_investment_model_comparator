{
 "cells": [
  {
   "cell_type": "markdown",
   "metadata": {},
   "source": [
    "# About Bollinger bands\n",
    "\n",
    "What is:  Bollinger Bands are a type of price envelope developed by John BollingerOpens in a new window. (Price envelopes define upper and lower price range levels.)"
   ]
  },
  {
   "cell_type": "markdown",
   "metadata": {},
   "source": [
    "# Importing data"
   ]
  },
  {
   "cell_type": "code",
   "execution_count": 1,
   "metadata": {},
   "outputs": [],
   "source": [
    "import pandas as pd\n",
    "import numpy as np \n",
    "import yfinance as yf \n",
    "from datetime import date, timedelta\n",
    "import warnings\n",
    "\n",
    "warnings.simplefilter(action='ignore', category=FutureWarning)\n",
    "pd.options.mode.chained_assignment = None "
   ]
  },
  {
   "cell_type": "code",
   "execution_count": 2,
   "metadata": {},
   "outputs": [
    {
     "data": {
      "text/plain": [
       "(datetime.date(2024, 2, 2), datetime.date(2004, 2, 7))"
      ]
     },
     "execution_count": 2,
     "metadata": {},
     "output_type": "execute_result"
    }
   ],
   "source": [
    "asset = 'AMZN'\n",
    "end_date = date.today()\n",
    "start_date = end_date - timedelta(365*20) # 20 years\n",
    "\n",
    "end_date, start_date"
   ]
  },
  {
   "cell_type": "code",
   "execution_count": 3,
   "metadata": {},
   "outputs": [
    {
     "name": "stderr",
     "output_type": "stream",
     "text": [
      "[*********************100%%**********************]  1 of 1 completed\n"
     ]
    }
   ],
   "source": [
    "df = yf.download(asset, start_date, end_date)\n",
    "\n",
    "df = df.dropna()"
   ]
  },
  {
   "cell_type": "code",
   "execution_count": 4,
   "metadata": {},
   "outputs": [
    {
     "data": {
      "text/html": [
       "<div>\n",
       "<style scoped>\n",
       "    .dataframe tbody tr th:only-of-type {\n",
       "        vertical-align: middle;\n",
       "    }\n",
       "\n",
       "    .dataframe tbody tr th {\n",
       "        vertical-align: top;\n",
       "    }\n",
       "\n",
       "    .dataframe thead th {\n",
       "        text-align: right;\n",
       "    }\n",
       "</style>\n",
       "<table border=\"1\" class=\"dataframe\">\n",
       "  <thead>\n",
       "    <tr style=\"text-align: right;\">\n",
       "      <th></th>\n",
       "      <th>Open</th>\n",
       "      <th>High</th>\n",
       "      <th>Low</th>\n",
       "      <th>Close</th>\n",
       "      <th>Adj Close</th>\n",
       "      <th>Volume</th>\n",
       "    </tr>\n",
       "    <tr>\n",
       "      <th>Date</th>\n",
       "      <th></th>\n",
       "      <th></th>\n",
       "      <th></th>\n",
       "      <th></th>\n",
       "      <th></th>\n",
       "      <th></th>\n",
       "    </tr>\n",
       "  </thead>\n",
       "  <tbody>\n",
       "    <tr>\n",
       "      <th>2004-02-09</th>\n",
       "      <td>2.337500</td>\n",
       "      <td>2.340000</td>\n",
       "      <td>2.285000</td>\n",
       "      <td>2.293000</td>\n",
       "      <td>2.293000</td>\n",
       "      <td>122922000</td>\n",
       "    </tr>\n",
       "    <tr>\n",
       "      <th>2004-02-10</th>\n",
       "      <td>2.292500</td>\n",
       "      <td>2.312500</td>\n",
       "      <td>2.275500</td>\n",
       "      <td>2.279500</td>\n",
       "      <td>2.279500</td>\n",
       "      <td>98980000</td>\n",
       "    </tr>\n",
       "    <tr>\n",
       "      <th>2004-02-11</th>\n",
       "      <td>2.293000</td>\n",
       "      <td>2.368000</td>\n",
       "      <td>2.277000</td>\n",
       "      <td>2.357000</td>\n",
       "      <td>2.357000</td>\n",
       "      <td>157634000</td>\n",
       "    </tr>\n",
       "    <tr>\n",
       "      <th>2004-02-12</th>\n",
       "      <td>2.346500</td>\n",
       "      <td>2.405000</td>\n",
       "      <td>2.335500</td>\n",
       "      <td>2.353000</td>\n",
       "      <td>2.353000</td>\n",
       "      <td>135144000</td>\n",
       "    </tr>\n",
       "    <tr>\n",
       "      <th>2004-02-13</th>\n",
       "      <td>2.364500</td>\n",
       "      <td>2.385000</td>\n",
       "      <td>2.312000</td>\n",
       "      <td>2.319000</td>\n",
       "      <td>2.319000</td>\n",
       "      <td>108634000</td>\n",
       "    </tr>\n",
       "    <tr>\n",
       "      <th>...</th>\n",
       "      <td>...</td>\n",
       "      <td>...</td>\n",
       "      <td>...</td>\n",
       "      <td>...</td>\n",
       "      <td>...</td>\n",
       "      <td>...</td>\n",
       "    </tr>\n",
       "    <tr>\n",
       "      <th>2024-01-26</th>\n",
       "      <td>158.419998</td>\n",
       "      <td>160.720001</td>\n",
       "      <td>157.910004</td>\n",
       "      <td>159.119995</td>\n",
       "      <td>159.119995</td>\n",
       "      <td>51047400</td>\n",
       "    </tr>\n",
       "    <tr>\n",
       "      <th>2024-01-29</th>\n",
       "      <td>159.339996</td>\n",
       "      <td>161.289993</td>\n",
       "      <td>158.899994</td>\n",
       "      <td>161.259995</td>\n",
       "      <td>161.259995</td>\n",
       "      <td>45270400</td>\n",
       "    </tr>\n",
       "    <tr>\n",
       "      <th>2024-01-30</th>\n",
       "      <td>160.699997</td>\n",
       "      <td>161.729996</td>\n",
       "      <td>158.490005</td>\n",
       "      <td>159.000000</td>\n",
       "      <td>159.000000</td>\n",
       "      <td>45207400</td>\n",
       "    </tr>\n",
       "    <tr>\n",
       "      <th>2024-01-31</th>\n",
       "      <td>157.000000</td>\n",
       "      <td>159.009995</td>\n",
       "      <td>154.809998</td>\n",
       "      <td>155.199997</td>\n",
       "      <td>155.199997</td>\n",
       "      <td>50284400</td>\n",
       "    </tr>\n",
       "    <tr>\n",
       "      <th>2024-02-01</th>\n",
       "      <td>155.869995</td>\n",
       "      <td>159.759995</td>\n",
       "      <td>155.619995</td>\n",
       "      <td>159.279999</td>\n",
       "      <td>159.279999</td>\n",
       "      <td>75180500</td>\n",
       "    </tr>\n",
       "  </tbody>\n",
       "</table>\n",
       "<p>5030 rows × 6 columns</p>\n",
       "</div>"
      ],
      "text/plain": [
       "                  Open        High         Low       Close   Adj Close  \\\n",
       "Date                                                                     \n",
       "2004-02-09    2.337500    2.340000    2.285000    2.293000    2.293000   \n",
       "2004-02-10    2.292500    2.312500    2.275500    2.279500    2.279500   \n",
       "2004-02-11    2.293000    2.368000    2.277000    2.357000    2.357000   \n",
       "2004-02-12    2.346500    2.405000    2.335500    2.353000    2.353000   \n",
       "2004-02-13    2.364500    2.385000    2.312000    2.319000    2.319000   \n",
       "...                ...         ...         ...         ...         ...   \n",
       "2024-01-26  158.419998  160.720001  157.910004  159.119995  159.119995   \n",
       "2024-01-29  159.339996  161.289993  158.899994  161.259995  161.259995   \n",
       "2024-01-30  160.699997  161.729996  158.490005  159.000000  159.000000   \n",
       "2024-01-31  157.000000  159.009995  154.809998  155.199997  155.199997   \n",
       "2024-02-01  155.869995  159.759995  155.619995  159.279999  159.279999   \n",
       "\n",
       "               Volume  \n",
       "Date                   \n",
       "2004-02-09  122922000  \n",
       "2004-02-10   98980000  \n",
       "2004-02-11  157634000  \n",
       "2004-02-12  135144000  \n",
       "2004-02-13  108634000  \n",
       "...               ...  \n",
       "2024-01-26   51047400  \n",
       "2024-01-29   45270400  \n",
       "2024-01-30   45207400  \n",
       "2024-01-31   50284400  \n",
       "2024-02-01   75180500  \n",
       "\n",
       "[5030 rows x 6 columns]"
      ]
     },
     "execution_count": 4,
     "metadata": {},
     "output_type": "execute_result"
    }
   ],
   "source": [
    "df"
   ]
  },
  {
   "cell_type": "markdown",
   "metadata": {},
   "source": [
    "# Calculating Bollinger bands\n",
    "\n",
    "Steps:\n",
    "- Calculate moving average from the last 20 days\n",
    "- calculate standard deviation from the same period\n",
    "- Calculate limit bands (top and botton)\n",
    "\n",
    "- Top band: simple moving average + 2 times the standard deviation\n",
    "- Botton band: simple moving average - 2 times the standard deviation"
   ]
  },
  {
   "cell_type": "code",
   "execution_count": 5,
   "metadata": {},
   "outputs": [],
   "source": [
    "# Moving average and standard deviation\n",
    "\n",
    "df['Moving average'] = df['Adj Close'].rolling(window = 20).mean()\n",
    "df['Std dev'] = df['Adj Close'].rolling(window = 20).std()\n",
    "\n",
    "# Top and botton band\n",
    "\n",
    "df['Top band'] = df['Moving average'] + 2 * df['Std dev']\n",
    "df['Botton band'] = df['Moving average'] - 2 * df['Std dev']\n",
    "\n",
    "df = df.dropna()"
   ]
  },
  {
   "cell_type": "code",
   "execution_count": 6,
   "metadata": {},
   "outputs": [
    {
     "data": {
      "text/html": [
       "<div>\n",
       "<style scoped>\n",
       "    .dataframe tbody tr th:only-of-type {\n",
       "        vertical-align: middle;\n",
       "    }\n",
       "\n",
       "    .dataframe tbody tr th {\n",
       "        vertical-align: top;\n",
       "    }\n",
       "\n",
       "    .dataframe thead th {\n",
       "        text-align: right;\n",
       "    }\n",
       "</style>\n",
       "<table border=\"1\" class=\"dataframe\">\n",
       "  <thead>\n",
       "    <tr style=\"text-align: right;\">\n",
       "      <th></th>\n",
       "      <th>Open</th>\n",
       "      <th>High</th>\n",
       "      <th>Low</th>\n",
       "      <th>Close</th>\n",
       "      <th>Adj Close</th>\n",
       "      <th>Volume</th>\n",
       "      <th>Moving average</th>\n",
       "      <th>Std dev</th>\n",
       "      <th>Top band</th>\n",
       "      <th>Botton band</th>\n",
       "    </tr>\n",
       "    <tr>\n",
       "      <th>Date</th>\n",
       "      <th></th>\n",
       "      <th></th>\n",
       "      <th></th>\n",
       "      <th></th>\n",
       "      <th></th>\n",
       "      <th></th>\n",
       "      <th></th>\n",
       "      <th></th>\n",
       "      <th></th>\n",
       "      <th></th>\n",
       "    </tr>\n",
       "  </thead>\n",
       "  <tbody>\n",
       "    <tr>\n",
       "      <th>2008-10-13</th>\n",
       "      <td>2.948000</td>\n",
       "      <td>3.110500</td>\n",
       "      <td>2.868500</td>\n",
       "      <td>3.1010</td>\n",
       "      <td>3.1010</td>\n",
       "      <td>223896000</td>\n",
       "      <td>3.415725</td>\n",
       "      <td>0.357099</td>\n",
       "      <td>4.129923</td>\n",
       "      <td>2.701527</td>\n",
       "    </tr>\n",
       "    <tr>\n",
       "      <th>2016-04-28</th>\n",
       "      <td>30.777000</td>\n",
       "      <td>31.340000</td>\n",
       "      <td>29.959999</td>\n",
       "      <td>30.1000</td>\n",
       "      <td>30.1000</td>\n",
       "      <td>157452000</td>\n",
       "      <td>30.564725</td>\n",
       "      <td>0.783011</td>\n",
       "      <td>32.130747</td>\n",
       "      <td>28.998703</td>\n",
       "    </tr>\n",
       "    <tr>\n",
       "      <th>2011-05-27</th>\n",
       "      <td>9.738000</td>\n",
       "      <td>9.806000</td>\n",
       "      <td>9.675000</td>\n",
       "      <td>9.7065</td>\n",
       "      <td>9.7065</td>\n",
       "      <td>47052000</td>\n",
       "      <td>9.912025</td>\n",
       "      <td>0.201466</td>\n",
       "      <td>10.314958</td>\n",
       "      <td>9.509092</td>\n",
       "    </tr>\n",
       "    <tr>\n",
       "      <th>2013-02-05</th>\n",
       "      <td>13.100000</td>\n",
       "      <td>13.401500</td>\n",
       "      <td>13.073000</td>\n",
       "      <td>13.3445</td>\n",
       "      <td>13.3445</td>\n",
       "      <td>80258000</td>\n",
       "      <td>13.461100</td>\n",
       "      <td>0.271705</td>\n",
       "      <td>14.004509</td>\n",
       "      <td>12.917691</td>\n",
       "    </tr>\n",
       "    <tr>\n",
       "      <th>2013-12-03</th>\n",
       "      <td>19.505501</td>\n",
       "      <td>19.547501</td>\n",
       "      <td>19.155001</td>\n",
       "      <td>19.2330</td>\n",
       "      <td>19.2330</td>\n",
       "      <td>74058000</td>\n",
       "      <td>18.389650</td>\n",
       "      <td>0.724453</td>\n",
       "      <td>19.838556</td>\n",
       "      <td>16.940744</td>\n",
       "    </tr>\n",
       "  </tbody>\n",
       "</table>\n",
       "</div>"
      ],
      "text/plain": [
       "                 Open       High        Low    Close  Adj Close     Volume  \\\n",
       "Date                                                                         \n",
       "2008-10-13   2.948000   3.110500   2.868500   3.1010     3.1010  223896000   \n",
       "2016-04-28  30.777000  31.340000  29.959999  30.1000    30.1000  157452000   \n",
       "2011-05-27   9.738000   9.806000   9.675000   9.7065     9.7065   47052000   \n",
       "2013-02-05  13.100000  13.401500  13.073000  13.3445    13.3445   80258000   \n",
       "2013-12-03  19.505501  19.547501  19.155001  19.2330    19.2330   74058000   \n",
       "\n",
       "            Moving average   Std dev   Top band  Botton band  \n",
       "Date                                                          \n",
       "2008-10-13        3.415725  0.357099   4.129923     2.701527  \n",
       "2016-04-28       30.564725  0.783011  32.130747    28.998703  \n",
       "2011-05-27        9.912025  0.201466  10.314958     9.509092  \n",
       "2013-02-05       13.461100  0.271705  14.004509    12.917691  \n",
       "2013-12-03       18.389650  0.724453  19.838556    16.940744  "
      ]
     },
     "execution_count": 6,
     "metadata": {},
     "output_type": "execute_result"
    }
   ],
   "source": [
    "df.sample(5)"
   ]
  },
  {
   "cell_type": "code",
   "execution_count": 7,
   "metadata": {},
   "outputs": [
    {
     "data": {
      "text/plain": [
       "<Axes: xlabel='Date'>"
      ]
     },
     "execution_count": 7,
     "metadata": {},
     "output_type": "execute_result"
    },
    {
     "data": {
      "image/png": "[encoded data removed]",
      "text/plain": [
       "<Figure size 640x480 with 1 Axes>"
      ]
     },
     "metadata": {},
     "output_type": "display_data"
    }
   ],
   "source": [
    "# Selected only 100 days just to see more clearly the chart\n",
    "df[['Adj Close', 'Moving average', 'Top band', 'Botton band']].tail(100).plot()"
   ]
  },
  {
   "cell_type": "markdown",
   "metadata": {},
   "source": [
    "# Long position"
   ]
  },
  {
   "cell_type": "markdown",
   "metadata": {},
   "source": [
    "- Buy = price cross above top band\n",
    "- Sell = price cross below top band OR stop loss of 10 days "
   ]
  },
  {
   "cell_type": "code",
   "execution_count": 8,
   "metadata": {},
   "outputs": [],
   "source": [
    "def long_position_dates(df, stop_loss_time):\n",
    "\n",
    "    buy_dates = []\n",
    "    sell_dates = []\n",
    "\n",
    "    for i in range(1, len(df)): # Taking away the first element\n",
    "\n",
    "        price_day_before = df.iloc[i-1]['Adj Close']\n",
    "        price = df.iloc[i]['Adj Close']\n",
    "        band_day_before = df.iloc[i-1]['Top band']\n",
    "        band = df.iloc[i]['Top band']\n",
    "\n",
    "        # This indicate that price crossed top band\n",
    "        if (price_day_before < band_day_before) & (price >= band):\n",
    "\n",
    "            try: # This is for those cases that it is on te last element of df\n",
    "                buy_dates.append(df.iloc[i+1].name) # buy next day\n",
    "\n",
    "                for j in range(1, stop_loss_time+1): # Stop loss of x days or crossed below\n",
    "                    \n",
    "                    try:\n",
    "                        new_price_day_before = df.iloc[i+j-1]['Adj Close']\n",
    "                        new_price = df.iloc[i+j]['Adj Close']\n",
    "                        new_band_day_before = df.iloc[i+j-1]['Top band']\n",
    "                        new_band = df.iloc[i+j]['Top band']\n",
    "\n",
    "                        if (new_price_day_before > new_band_day_before) & (new_price <= new_band):\n",
    "                            sell_dates.append(df.iloc[i+j+1].name) # sell next day\n",
    "                            break\n",
    "                            \n",
    "                        elif j == stop_loss_time:\n",
    "                            try:\n",
    "                                sell_dates.append(df.iloc[i+j+1].name)\n",
    "                            except:\n",
    "                                sell_dates.append(df.iloc[-1].name) # this is for operations in the nearest x days\n",
    "                    \n",
    "                    except:\n",
    "                        buy_dates.remove(df.iloc[i+1].name)\n",
    "            except:\n",
    "                'The last element error :('\n",
    "                \n",
    "    return [buy_dates, sell_dates]"
   ]
  },
  {
   "cell_type": "code",
   "execution_count": 9,
   "metadata": {},
   "outputs": [],
   "source": [
    "lp_dates = long_position_dates(df, 30)\n",
    "\n",
    "lp_buy_dates = lp_dates[0]\n",
    "lp_sell_dates = lp_dates[1]"
   ]
  },
  {
   "cell_type": "code",
   "execution_count": 10,
   "metadata": {},
   "outputs": [
    {
     "data": {
      "text/plain": [
       "(170, 170)"
      ]
     },
     "execution_count": 10,
     "metadata": {},
     "output_type": "execute_result"
    }
   ],
   "source": [
    "len(lp_buy_dates), len(lp_sell_dates)"
   ]
  },
  {
   "cell_type": "markdown",
   "metadata": {},
   "source": [
    "# Short position"
   ]
  },
  {
   "cell_type": "markdown",
   "metadata": {},
   "source": [
    "- Sell = price cross below botton band\n",
    "- Buy = price cross above botton band OR stop loss of 10 days "
   ]
  },
  {
   "cell_type": "code",
   "execution_count": 11,
   "metadata": {},
   "outputs": [],
   "source": [
    "def short_position_dates(df, stop_loss_time):\n",
    "\n",
    "    buy_dates = []\n",
    "    sell_dates = []\n",
    "\n",
    "    for i in range(1, len(df)): # Taking away the first element\n",
    "\n",
    "        price_day_before = df.iloc[i-1]['Adj Close']\n",
    "        price = df.iloc[i]['Adj Close']\n",
    "        band_day_before = df.iloc[i-1]['Botton band']\n",
    "        band = df.iloc[i]['Botton band']\n",
    "\n",
    "        if (price_day_before > band_day_before) & (price <= band):\n",
    "\n",
    "            try: # This is for those cases that it is on te last element of df\n",
    "                sell_dates.append(df.iloc[i+1].name) # sell the next day\n",
    "\n",
    "                for j in range(1,stop_loss_time+1):\n",
    "\n",
    "                    new_short_day_before = df.iloc[i+j-1]['Adj Close']\n",
    "                    new_short = df.iloc[i+j]['Adj Close']\n",
    "                    new_day_before = df.iloc[i+j-1]['Botton band']\n",
    "                    new_day = df.iloc[i+j]['Botton band']\n",
    "\n",
    "                    # This indicate that EMA short term crossed above long term EMA\n",
    "                    if (new_short_day_before < new_day_before) & (new_short >= new_day):\n",
    "\n",
    "                        buy_dates.append(df.iloc[i+j+1].name) # buy next day\n",
    "                        break\n",
    "                        \n",
    "                    elif j == stop_loss_time:\n",
    "                        try:\n",
    "                            buy_dates.append(df.iloc[i+j+1].name)\n",
    "                        except:\n",
    "                            buy_dates.append(df.iloc[-1].name) # this is for operations in the nearest x days\n",
    "            except:\n",
    "                'The last element error :('\n",
    "\n",
    "    return [buy_dates, sell_dates]"
   ]
  },
  {
   "cell_type": "code",
   "execution_count": 12,
   "metadata": {},
   "outputs": [],
   "source": [
    "sp_dates = short_position_dates(df, 30)\n",
    "\n",
    "sp_buy_dates = sp_dates[0]\n",
    "sp_sell_dates = sp_dates[1]"
   ]
  },
  {
   "cell_type": "code",
   "execution_count": 13,
   "metadata": {},
   "outputs": [
    {
     "data": {
      "text/plain": [
       "(116, 116)"
      ]
     },
     "execution_count": 13,
     "metadata": {},
     "output_type": "execute_result"
    }
   ],
   "source": [
    "len(sp_buy_dates), len(sp_sell_dates)"
   ]
  },
  {
   "cell_type": "markdown",
   "metadata": {},
   "source": [
    "# Comparison with buy and hold"
   ]
  },
  {
   "cell_type": "code",
   "execution_count": 14,
   "metadata": {},
   "outputs": [
    {
     "data": {
      "text/plain": [
       "7223.2184952312455"
      ]
     },
     "execution_count": 14,
     "metadata": {},
     "output_type": "execute_result"
    }
   ],
   "source": [
    "buy_n_hold_return = ((df.iloc[-1]['Adj Close'] - df.iloc[0]['Adj Close']) / df.iloc[0]['Adj Close']) * 100\n",
    "buy_n_hold_return"
   ]
  },
  {
   "cell_type": "code",
   "execution_count": 15,
   "metadata": {},
   "outputs": [],
   "source": [
    "def find_returns(df, b_dates, s_dates):\n",
    "\n",
    "    operation_returns = []\n",
    "\n",
    "    for i in range(len(b_dates)):\n",
    "        \n",
    "        buy_price = df.loc[b_dates[i]]['Adj Close']\n",
    "        sell_price = df.loc[s_dates[i]]['Adj Close']\n",
    "\n",
    "        operation_return = (sell_price - buy_price) / buy_price\n",
    "\n",
    "        operation_returns.append(operation_return)\n",
    "    \n",
    "    return operation_returns"
   ]
  },
  {
   "cell_type": "code",
   "execution_count": 16,
   "metadata": {},
   "outputs": [],
   "source": [
    "lp_return = find_returns(df, lp_buy_dates, lp_sell_dates)\n",
    "sp_return = find_returns(df,sp_buy_dates, sp_sell_dates)"
   ]
  },
  {
   "cell_type": "markdown",
   "metadata": {},
   "source": [
    "- Positives and negative returns"
   ]
  },
  {
   "cell_type": "code",
   "execution_count": 17,
   "metadata": {},
   "outputs": [],
   "source": [
    "lp_win_returns = []\n",
    "lp_lost_returns = []\n",
    "\n",
    "for i in lp_return:\n",
    "    if i > 0: lp_win_returns.append(i)\n",
    "    if i < 0: lp_lost_returns.append(i)"
   ]
  },
  {
   "cell_type": "code",
   "execution_count": 18,
   "metadata": {},
   "outputs": [],
   "source": [
    "sp_win_returns = []\n",
    "sp_lost_returns = []\n",
    "\n",
    "for i in sp_return:\n",
    "    if i > 0: sp_win_returns.append(i)\n",
    "    if i < 0: sp_lost_returns.append(i)"
   ]
  },
  {
   "cell_type": "code",
   "execution_count": 19,
   "metadata": {},
   "outputs": [
    {
     "name": "stdout",
     "output_type": "stream",
     "text": [
      "Long position winning trades: 41.18%\n",
      "Long position losing trades: 58.82%\n"
     ]
    }
   ],
   "source": [
    "lp_perc_win = len(lp_win_returns) / len(lp_return) * 100\n",
    "lp_perc_lost = len(lp_lost_returns) / len(lp_return) * 100\n",
    "\n",
    "print(f'Long position winning trades: {round(lp_perc_win,2)}%')\n",
    "print(f'Long position losing trades: {round(lp_perc_lost,2)}%')"
   ]
  },
  {
   "cell_type": "code",
   "execution_count": 20,
   "metadata": {},
   "outputs": [
    {
     "name": "stdout",
     "output_type": "stream",
     "text": [
      "Short position winning trades: 42.24%\n",
      "Short position losing trades: 56.9%\n"
     ]
    }
   ],
   "source": [
    "sp_perc_win = len(sp_win_returns) / len(sp_return) * 100\n",
    "sp_perc_lost = len(sp_lost_returns) / len(sp_return) * 100\n",
    "\n",
    "print(f'Short position winning trades: {round(sp_perc_win,2)}%')\n",
    "print(f'Short position losing trades: {round(sp_perc_lost,2)}%')"
   ]
  },
  {
   "cell_type": "code",
   "execution_count": 21,
   "metadata": {},
   "outputs": [
    {
     "name": "stdout",
     "output_type": "stream",
     "text": [
      "Average of long position winning trades: 0.019% per trade\n",
      "Average of long position losing trades: -0.018% per trade\n"
     ]
    }
   ],
   "source": [
    "lp_average_win = np.mean(lp_win_returns)\n",
    "lp_average_lost = np.mean(lp_lost_returns)\n",
    "\n",
    "print(f'Average of long position winning trades: {round(lp_average_win,3)}% per trade')\n",
    "print(f'Average of long position losing trades: {round(lp_average_lost,3)}% per trade')"
   ]
  },
  {
   "cell_type": "code",
   "execution_count": 22,
   "metadata": {},
   "outputs": [
    {
     "name": "stdout",
     "output_type": "stream",
     "text": [
      "Average of short position winning trades: 0.033% per trade\n",
      "Average of short position losing trades: -0.026% per trade\n"
     ]
    }
   ],
   "source": [
    "sp_average_win = np.mean(sp_win_returns)\n",
    "sp_average_lost = np.mean(sp_lost_returns)\n",
    "\n",
    "print(f'Average of short position winning trades: {round(sp_average_win,3)}% per trade')\n",
    "print(f'Average of short position losing trades: {round(sp_average_lost,3)}% per trade')"
   ]
  },
  {
   "cell_type": "markdown",
   "metadata": {},
   "source": [
    "- Cumulative return"
   ]
  },
  {
   "cell_type": "code",
   "execution_count": 23,
   "metadata": {},
   "outputs": [
    {
     "data": {
      "text/plain": [
       "-38.722840646602045"
      ]
     },
     "execution_count": 23,
     "metadata": {},
     "output_type": "execute_result"
    }
   ],
   "source": [
    "lp_cumulative_return = ((np.cumprod(1 + np.array(lp_return)) - 1) * 100)[-1]\n",
    "lp_cumulative_return"
   ]
  },
  {
   "cell_type": "code",
   "execution_count": 24,
   "metadata": {},
   "outputs": [
    {
     "data": {
      "text/plain": [
       "-15.961235224292924"
      ]
     },
     "execution_count": 24,
     "metadata": {},
     "output_type": "execute_result"
    }
   ],
   "source": [
    "sp_cumulative_return = ((np.cumprod(1 + np.array(sp_return)) - 1) * 100)[-1]\n",
    "sp_cumulative_return"
   ]
  },
  {
   "cell_type": "code",
   "execution_count": 25,
   "metadata": {},
   "outputs": [
    {
     "data": {
      "text/plain": [
       "-27.342037935447486"
      ]
     },
     "execution_count": 25,
     "metadata": {},
     "output_type": "execute_result"
    }
   ],
   "source": [
    "lp_sp_cumulative_return = np.mean([lp_cumulative_return, sp_cumulative_return])\n",
    "lp_sp_cumulative_return"
   ]
  },
  {
   "cell_type": "markdown",
   "metadata": {},
   "source": [
    "- Bollinger bands vs Buy and Hold"
   ]
  },
  {
   "cell_type": "code",
   "execution_count": 26,
   "metadata": {},
   "outputs": [
    {
     "name": "stdout",
     "output_type": "stream",
     "text": [
      "Buy n hold return: 7223.22%\n",
      "BB model return: -27.34%\n"
     ]
    }
   ],
   "source": [
    "print(f'Buy n hold return: {round(buy_n_hold_return,2)}%')\n",
    "print(f'BB model return: {round(lp_sp_cumulative_return,2)}%')"
   ]
  }
 ],
 "metadata": {
  "kernelspec": {
   "display_name": "Python 3",
   "language": "python",
   "name": "python3"
  },
  "language_info": {
   "codemirror_mode": {
    "name": "ipython",
    "version": 3
   },
   "file_extension": ".py",
   "mimetype": "text/x-python",
   "name": "python",
   "nbconvert_exporter": "python",
   "pygments_lexer": "ipython3",
   "version": "3.12.1"
  }
 },
 "nbformat": 4,
 "nbformat_minor": 2
}
