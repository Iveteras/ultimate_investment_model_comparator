{
 "cells": [
  {
   "cell_type": "markdown",
   "metadata": {},
   "source": [
    "# About Stochastic\n",
    "\n",
    "- What is: A stochastic oscillator is a momentum indicator comparing a particular closing price of a security to a range of its prices over a certain period of time. The sensitivity of the oscillator to market movements is reducible by adjusting that time period or by taking a moving average of the result."
   ]
  },
  {
   "cell_type": "markdown",
   "metadata": {},
   "source": [
    "# Importing data"
   ]
  },
  {
   "cell_type": "code",
   "execution_count": 1,
   "metadata": {},
   "outputs": [],
   "source": [
    "import pandas as pd\n",
    "import numpy as np \n",
    "import yfinance as yf \n",
    "from datetime import date, timedelta\n",
    "import warnings\n",
    "\n",
    "warnings.simplefilter(action='ignore', category=FutureWarning)\n",
    "pd.options.mode.chained_assignment = None "
   ]
  },
  {
   "cell_type": "code",
   "execution_count": 2,
   "metadata": {},
   "outputs": [
    {
     "data": {
      "text/plain": [
       "(datetime.date(2024, 2, 2), datetime.date(2004, 2, 7))"
      ]
     },
     "execution_count": 2,
     "metadata": {},
     "output_type": "execute_result"
    }
   ],
   "source": [
    "asset = 'AMZN'\n",
    "end_date = date.today()\n",
    "start_date = end_date - timedelta(365*20) # 20 years\n",
    "\n",
    "end_date, start_date"
   ]
  },
  {
   "cell_type": "code",
   "execution_count": 3,
   "metadata": {},
   "outputs": [
    {
     "name": "stderr",
     "output_type": "stream",
     "text": [
      "[*********************100%%**********************]  1 of 1 completed\n"
     ]
    }
   ],
   "source": [
    "df = yf.download(asset, start_date, end_date)\n",
    "\n",
    "df = df.dropna()"
   ]
  },
  {
   "cell_type": "code",
   "execution_count": 4,
   "metadata": {},
   "outputs": [
    {
     "data": {
      "text/html": [
       "<div>\n",
       "<style scoped>\n",
       "    .dataframe tbody tr th:only-of-type {\n",
       "        vertical-align: middle;\n",
       "    }\n",
       "\n",
       "    .dataframe tbody tr th {\n",
       "        vertical-align: top;\n",
       "    }\n",
       "\n",
       "    .dataframe thead th {\n",
       "        text-align: right;\n",
       "    }\n",
       "</style>\n",
       "<table border=\"1\" class=\"dataframe\">\n",
       "  <thead>\n",
       "    <tr style=\"text-align: right;\">\n",
       "      <th></th>\n",
       "      <th>Open</th>\n",
       "      <th>High</th>\n",
       "      <th>Low</th>\n",
       "      <th>Close</th>\n",
       "      <th>Adj Close</th>\n",
       "      <th>Volume</th>\n",
       "    </tr>\n",
       "    <tr>\n",
       "      <th>Date</th>\n",
       "      <th></th>\n",
       "      <th></th>\n",
       "      <th></th>\n",
       "      <th></th>\n",
       "      <th></th>\n",
       "      <th></th>\n",
       "    </tr>\n",
       "  </thead>\n",
       "  <tbody>\n",
       "    <tr>\n",
       "      <th>2004-02-09</th>\n",
       "      <td>2.337500</td>\n",
       "      <td>2.340000</td>\n",
       "      <td>2.285000</td>\n",
       "      <td>2.293000</td>\n",
       "      <td>2.293000</td>\n",
       "      <td>122922000</td>\n",
       "    </tr>\n",
       "    <tr>\n",
       "      <th>2004-02-10</th>\n",
       "      <td>2.292500</td>\n",
       "      <td>2.312500</td>\n",
       "      <td>2.275500</td>\n",
       "      <td>2.279500</td>\n",
       "      <td>2.279500</td>\n",
       "      <td>98980000</td>\n",
       "    </tr>\n",
       "    <tr>\n",
       "      <th>2004-02-11</th>\n",
       "      <td>2.293000</td>\n",
       "      <td>2.368000</td>\n",
       "      <td>2.277000</td>\n",
       "      <td>2.357000</td>\n",
       "      <td>2.357000</td>\n",
       "      <td>157634000</td>\n",
       "    </tr>\n",
       "    <tr>\n",
       "      <th>2004-02-12</th>\n",
       "      <td>2.346500</td>\n",
       "      <td>2.405000</td>\n",
       "      <td>2.335500</td>\n",
       "      <td>2.353000</td>\n",
       "      <td>2.353000</td>\n",
       "      <td>135144000</td>\n",
       "    </tr>\n",
       "    <tr>\n",
       "      <th>2004-02-13</th>\n",
       "      <td>2.364500</td>\n",
       "      <td>2.385000</td>\n",
       "      <td>2.312000</td>\n",
       "      <td>2.319000</td>\n",
       "      <td>2.319000</td>\n",
       "      <td>108634000</td>\n",
       "    </tr>\n",
       "    <tr>\n",
       "      <th>...</th>\n",
       "      <td>...</td>\n",
       "      <td>...</td>\n",
       "      <td>...</td>\n",
       "      <td>...</td>\n",
       "      <td>...</td>\n",
       "      <td>...</td>\n",
       "    </tr>\n",
       "    <tr>\n",
       "      <th>2024-01-26</th>\n",
       "      <td>158.419998</td>\n",
       "      <td>160.720001</td>\n",
       "      <td>157.910004</td>\n",
       "      <td>159.119995</td>\n",
       "      <td>159.119995</td>\n",
       "      <td>51047400</td>\n",
       "    </tr>\n",
       "    <tr>\n",
       "      <th>2024-01-29</th>\n",
       "      <td>159.339996</td>\n",
       "      <td>161.289993</td>\n",
       "      <td>158.899994</td>\n",
       "      <td>161.259995</td>\n",
       "      <td>161.259995</td>\n",
       "      <td>45270400</td>\n",
       "    </tr>\n",
       "    <tr>\n",
       "      <th>2024-01-30</th>\n",
       "      <td>160.699997</td>\n",
       "      <td>161.729996</td>\n",
       "      <td>158.490005</td>\n",
       "      <td>159.000000</td>\n",
       "      <td>159.000000</td>\n",
       "      <td>45207400</td>\n",
       "    </tr>\n",
       "    <tr>\n",
       "      <th>2024-01-31</th>\n",
       "      <td>157.000000</td>\n",
       "      <td>159.009995</td>\n",
       "      <td>154.809998</td>\n",
       "      <td>155.199997</td>\n",
       "      <td>155.199997</td>\n",
       "      <td>50284400</td>\n",
       "    </tr>\n",
       "    <tr>\n",
       "      <th>2024-02-01</th>\n",
       "      <td>155.869995</td>\n",
       "      <td>159.759995</td>\n",
       "      <td>155.619995</td>\n",
       "      <td>159.279999</td>\n",
       "      <td>159.279999</td>\n",
       "      <td>75180500</td>\n",
       "    </tr>\n",
       "  </tbody>\n",
       "</table>\n",
       "<p>5030 rows × 6 columns</p>\n",
       "</div>"
      ],
      "text/plain": [
       "                  Open        High         Low       Close   Adj Close  \\\n",
       "Date                                                                     \n",
       "2004-02-09    2.337500    2.340000    2.285000    2.293000    2.293000   \n",
       "2004-02-10    2.292500    2.312500    2.275500    2.279500    2.279500   \n",
       "2004-02-11    2.293000    2.368000    2.277000    2.357000    2.357000   \n",
       "2004-02-12    2.346500    2.405000    2.335500    2.353000    2.353000   \n",
       "2004-02-13    2.364500    2.385000    2.312000    2.319000    2.319000   \n",
       "...                ...         ...         ...         ...         ...   \n",
       "2024-01-26  158.419998  160.720001  157.910004  159.119995  159.119995   \n",
       "2024-01-29  159.339996  161.289993  158.899994  161.259995  161.259995   \n",
       "2024-01-30  160.699997  161.729996  158.490005  159.000000  159.000000   \n",
       "2024-01-31  157.000000  159.009995  154.809998  155.199997  155.199997   \n",
       "2024-02-01  155.869995  159.759995  155.619995  159.279999  159.279999   \n",
       "\n",
       "               Volume  \n",
       "Date                   \n",
       "2004-02-09  122922000  \n",
       "2004-02-10   98980000  \n",
       "2004-02-11  157634000  \n",
       "2004-02-12  135144000  \n",
       "2004-02-13  108634000  \n",
       "...               ...  \n",
       "2024-01-26   51047400  \n",
       "2024-01-29   45270400  \n",
       "2024-01-30   45207400  \n",
       "2024-01-31   50284400  \n",
       "2024-02-01   75180500  \n",
       "\n",
       "[5030 rows x 6 columns]"
      ]
     },
     "execution_count": 4,
     "metadata": {},
     "output_type": "execute_result"
    }
   ],
   "source": [
    "df"
   ]
  },
  {
   "cell_type": "markdown",
   "metadata": {},
   "source": [
    "# Calculating stochastic\n",
    "Setps:\n",
    "- Calculate: %K = 100 * (Price today – lower price 14 days) / (higher price 14 days – low price 14 days)\n",
    "- calculate: %D = %k moving average 3 days\n",
    "- %K and %D going to be guide lines for buy and sell"
   ]
  },
  {
   "cell_type": "code",
   "execution_count": 5,
   "metadata": {},
   "outputs": [],
   "source": [
    "# Higher and lower price last 14 days\n",
    "\n",
    "df['Higher price'] = df['Adj Close'].rolling(window = 14).max()\n",
    "df['Lower price'] = df['Adj Close'].rolling(window = 14).min()\n",
    "\n",
    "df = df.dropna()"
   ]
  },
  {
   "cell_type": "code",
   "execution_count": 6,
   "metadata": {},
   "outputs": [],
   "source": [
    "# %k\n",
    "df['%k'] = (df['Adj Close'] - df['Lower price']) / (df['Higher price'] - df['Lower price']) * 100\n",
    "\n",
    "# %D\n",
    "df['%D'] = df['%k'].rolling(window = 3).mean()\n",
    "\n",
    "df = df.dropna()"
   ]
  },
  {
   "cell_type": "code",
   "execution_count": 7,
   "metadata": {},
   "outputs": [
    {
     "data": {
      "text/html": [
       "<div>\n",
       "<style scoped>\n",
       "    .dataframe tbody tr th:only-of-type {\n",
       "        vertical-align: middle;\n",
       "    }\n",
       "\n",
       "    .dataframe tbody tr th {\n",
       "        vertical-align: top;\n",
       "    }\n",
       "\n",
       "    .dataframe thead th {\n",
       "        text-align: right;\n",
       "    }\n",
       "</style>\n",
       "<table border=\"1\" class=\"dataframe\">\n",
       "  <thead>\n",
       "    <tr style=\"text-align: right;\">\n",
       "      <th></th>\n",
       "      <th>Open</th>\n",
       "      <th>High</th>\n",
       "      <th>Low</th>\n",
       "      <th>Close</th>\n",
       "      <th>Adj Close</th>\n",
       "      <th>Volume</th>\n",
       "      <th>Higher price</th>\n",
       "      <th>Lower price</th>\n",
       "      <th>%k</th>\n",
       "      <th>%D</th>\n",
       "    </tr>\n",
       "    <tr>\n",
       "      <th>Date</th>\n",
       "      <th></th>\n",
       "      <th></th>\n",
       "      <th></th>\n",
       "      <th></th>\n",
       "      <th></th>\n",
       "      <th></th>\n",
       "      <th></th>\n",
       "      <th></th>\n",
       "      <th></th>\n",
       "      <th></th>\n",
       "    </tr>\n",
       "  </thead>\n",
       "  <tbody>\n",
       "    <tr>\n",
       "      <th>2004-03-02</th>\n",
       "      <td>2.136500</td>\n",
       "      <td>2.174500</td>\n",
       "      <td>2.093000</td>\n",
       "      <td>2.100500</td>\n",
       "      <td>2.100500</td>\n",
       "      <td>139332000</td>\n",
       "      <td>2.357000</td>\n",
       "      <td>2.100500</td>\n",
       "      <td>0.000000</td>\n",
       "      <td>9.266957</td>\n",
       "    </tr>\n",
       "    <tr>\n",
       "      <th>2004-03-03</th>\n",
       "      <td>2.093000</td>\n",
       "      <td>2.169000</td>\n",
       "      <td>2.082500</td>\n",
       "      <td>2.158500</td>\n",
       "      <td>2.158500</td>\n",
       "      <td>192032000</td>\n",
       "      <td>2.353000</td>\n",
       "      <td>2.100500</td>\n",
       "      <td>22.970254</td>\n",
       "      <td>12.151911</td>\n",
       "    </tr>\n",
       "    <tr>\n",
       "      <th>2004-03-04</th>\n",
       "      <td>2.156000</td>\n",
       "      <td>2.223500</td>\n",
       "      <td>2.155000</td>\n",
       "      <td>2.219500</td>\n",
       "      <td>2.219500</td>\n",
       "      <td>147602000</td>\n",
       "      <td>2.319000</td>\n",
       "      <td>2.100500</td>\n",
       "      <td>54.462249</td>\n",
       "      <td>25.810834</td>\n",
       "    </tr>\n",
       "    <tr>\n",
       "      <th>2004-03-05</th>\n",
       "      <td>2.189500</td>\n",
       "      <td>2.241500</td>\n",
       "      <td>2.176500</td>\n",
       "      <td>2.204500</td>\n",
       "      <td>2.204500</td>\n",
       "      <td>128530000</td>\n",
       "      <td>2.276500</td>\n",
       "      <td>2.100500</td>\n",
       "      <td>59.090866</td>\n",
       "      <td>45.507789</td>\n",
       "    </tr>\n",
       "    <tr>\n",
       "      <th>2004-03-08</th>\n",
       "      <td>2.198000</td>\n",
       "      <td>2.253000</td>\n",
       "      <td>2.156500</td>\n",
       "      <td>2.175000</td>\n",
       "      <td>2.175000</td>\n",
       "      <td>132170000</td>\n",
       "      <td>2.258500</td>\n",
       "      <td>2.100500</td>\n",
       "      <td>47.151803</td>\n",
       "      <td>53.568306</td>\n",
       "    </tr>\n",
       "    <tr>\n",
       "      <th>...</th>\n",
       "      <td>...</td>\n",
       "      <td>...</td>\n",
       "      <td>...</td>\n",
       "      <td>...</td>\n",
       "      <td>...</td>\n",
       "      <td>...</td>\n",
       "      <td>...</td>\n",
       "      <td>...</td>\n",
       "      <td>...</td>\n",
       "      <td>...</td>\n",
       "    </tr>\n",
       "    <tr>\n",
       "      <th>2024-01-26</th>\n",
       "      <td>158.419998</td>\n",
       "      <td>160.720001</td>\n",
       "      <td>157.910004</td>\n",
       "      <td>159.119995</td>\n",
       "      <td>159.119995</td>\n",
       "      <td>51047400</td>\n",
       "      <td>159.119995</td>\n",
       "      <td>149.100006</td>\n",
       "      <td>100.000000</td>\n",
       "      <td>100.000000</td>\n",
       "    </tr>\n",
       "    <tr>\n",
       "      <th>2024-01-29</th>\n",
       "      <td>159.339996</td>\n",
       "      <td>161.289993</td>\n",
       "      <td>158.899994</td>\n",
       "      <td>161.259995</td>\n",
       "      <td>161.259995</td>\n",
       "      <td>45270400</td>\n",
       "      <td>161.259995</td>\n",
       "      <td>151.369995</td>\n",
       "      <td>100.000000</td>\n",
       "      <td>100.000000</td>\n",
       "    </tr>\n",
       "    <tr>\n",
       "      <th>2024-01-30</th>\n",
       "      <td>160.699997</td>\n",
       "      <td>161.729996</td>\n",
       "      <td>158.490005</td>\n",
       "      <td>159.000000</td>\n",
       "      <td>159.000000</td>\n",
       "      <td>45207400</td>\n",
       "      <td>161.259995</td>\n",
       "      <td>151.710007</td>\n",
       "      <td>76.335106</td>\n",
       "      <td>92.111702</td>\n",
       "    </tr>\n",
       "    <tr>\n",
       "      <th>2024-01-31</th>\n",
       "      <td>157.000000</td>\n",
       "      <td>159.009995</td>\n",
       "      <td>154.809998</td>\n",
       "      <td>155.199997</td>\n",
       "      <td>155.199997</td>\n",
       "      <td>50284400</td>\n",
       "      <td>161.259995</td>\n",
       "      <td>151.710007</td>\n",
       "      <td>36.544447</td>\n",
       "      <td>70.959851</td>\n",
       "    </tr>\n",
       "    <tr>\n",
       "      <th>2024-02-01</th>\n",
       "      <td>155.869995</td>\n",
       "      <td>159.759995</td>\n",
       "      <td>155.619995</td>\n",
       "      <td>159.279999</td>\n",
       "      <td>159.279999</td>\n",
       "      <td>75180500</td>\n",
       "      <td>161.259995</td>\n",
       "      <td>151.710007</td>\n",
       "      <td>79.267034</td>\n",
       "      <td>64.048862</td>\n",
       "    </tr>\n",
       "  </tbody>\n",
       "</table>\n",
       "<p>5015 rows × 10 columns</p>\n",
       "</div>"
      ],
      "text/plain": [
       "                  Open        High         Low       Close   Adj Close  \\\n",
       "Date                                                                     \n",
       "2004-03-02    2.136500    2.174500    2.093000    2.100500    2.100500   \n",
       "2004-03-03    2.093000    2.169000    2.082500    2.158500    2.158500   \n",
       "2004-03-04    2.156000    2.223500    2.155000    2.219500    2.219500   \n",
       "2004-03-05    2.189500    2.241500    2.176500    2.204500    2.204500   \n",
       "2004-03-08    2.198000    2.253000    2.156500    2.175000    2.175000   \n",
       "...                ...         ...         ...         ...         ...   \n",
       "2024-01-26  158.419998  160.720001  157.910004  159.119995  159.119995   \n",
       "2024-01-29  159.339996  161.289993  158.899994  161.259995  161.259995   \n",
       "2024-01-30  160.699997  161.729996  158.490005  159.000000  159.000000   \n",
       "2024-01-31  157.000000  159.009995  154.809998  155.199997  155.199997   \n",
       "2024-02-01  155.869995  159.759995  155.619995  159.279999  159.279999   \n",
       "\n",
       "               Volume  Higher price  Lower price          %k          %D  \n",
       "Date                                                                      \n",
       "2004-03-02  139332000      2.357000     2.100500    0.000000    9.266957  \n",
       "2004-03-03  192032000      2.353000     2.100500   22.970254   12.151911  \n",
       "2004-03-04  147602000      2.319000     2.100500   54.462249   25.810834  \n",
       "2004-03-05  128530000      2.276500     2.100500   59.090866   45.507789  \n",
       "2004-03-08  132170000      2.258500     2.100500   47.151803   53.568306  \n",
       "...               ...           ...          ...         ...         ...  \n",
       "2024-01-26   51047400    159.119995   149.100006  100.000000  100.000000  \n",
       "2024-01-29   45270400    161.259995   151.369995  100.000000  100.000000  \n",
       "2024-01-30   45207400    161.259995   151.710007   76.335106   92.111702  \n",
       "2024-01-31   50284400    161.259995   151.710007   36.544447   70.959851  \n",
       "2024-02-01   75180500    161.259995   151.710007   79.267034   64.048862  \n",
       "\n",
       "[5015 rows x 10 columns]"
      ]
     },
     "execution_count": 7,
     "metadata": {},
     "output_type": "execute_result"
    }
   ],
   "source": [
    "df"
   ]
  },
  {
   "cell_type": "code",
   "execution_count": 8,
   "metadata": {},
   "outputs": [
    {
     "data": {
      "text/plain": [
       "<Axes: xlabel='Date'>"
      ]
     },
     "execution_count": 8,
     "metadata": {},
     "output_type": "execute_result"
    },
    {
     "data": {
      "image/png": "[encoded data removed]",
      "text/plain": [
       "<Figure size 640x480 with 1 Axes>"
      ]
     },
     "metadata": {},
     "output_type": "display_data"
    }
   ],
   "source": [
    "# Selected only 100 days just to see more clearly the chart\n",
    "df[['Adj Close','%k', '%D']].tail(100).plot()"
   ]
  },
  {
   "cell_type": "markdown",
   "metadata": {},
   "source": [
    "# Long position"
   ]
  },
  {
   "cell_type": "markdown",
   "metadata": {},
   "source": [
    "- Buy = %k or %D cross above 20\n",
    "- Sell = %k or %D cross above 80 or stop loss of x days"
   ]
  },
  {
   "cell_type": "code",
   "execution_count": 9,
   "metadata": {},
   "outputs": [],
   "source": [
    "def long_position_dates(df, stop_loss_time):\n",
    "\n",
    "    buy_dates = []\n",
    "    sell_dates = []\n",
    "\n",
    "    for i in range(1, len(df)): # Taking away the first element\n",
    "\n",
    "        k_day_before = df.iloc[i-1]['%k']\n",
    "        k_today = df.iloc[i]['%k']\n",
    "\n",
    "        d_day_before = df.iloc[i-1]['%D']\n",
    "        d_today = df.iloc[i]['%D']\n",
    "        \n",
    "        # This indicate that %k crossed above 20\n",
    "        if ((k_day_before < 20) & (k_today >= 20)) | ((d_day_before < 20) & (d_today >= 20)):\n",
    "\n",
    "            try: # This is for those cases that it is on te last element of df\n",
    "                buy_dates.append(df.iloc[i+1].name) # buy next day\n",
    "\n",
    "                for j in range(1, stop_loss_time+1): # Stop loss of x days or crossed above 80\n",
    "                    \n",
    "                    try:\n",
    "                        new_k_day_before = df.iloc[i+j-1]['%k']\n",
    "                        new_k_today = df.iloc[i+j]['%k']\n",
    "\n",
    "                        new_d_day_before = df.iloc[i+j-1]['%D']\n",
    "                        new_d_today = df.iloc[i+1]['%D']\n",
    "\n",
    "                        if ((new_k_day_before < 80) & (new_k_today >= 80)) | ((new_d_day_before < 80) & (new_d_today >= 80)):\n",
    "                            sell_dates.append(df.iloc[i+j+1].name) # sell next day\n",
    "                            break\n",
    "                            \n",
    "                        elif j == stop_loss_time:\n",
    "                            try:\n",
    "                                sell_dates.append(df.iloc[i+j+1].name)\n",
    "                            except:\n",
    "                                sell_dates.append(df.iloc[-1].name) # this is for operations in the nearest x days\n",
    "                    \n",
    "                    except:\n",
    "                        buy_dates.remove(df.iloc[i+1].name)\n",
    "\n",
    "            except:\n",
    "                'The last element error :('\n",
    "                \n",
    "    return [buy_dates, sell_dates]"
   ]
  },
  {
   "cell_type": "code",
   "execution_count": 10,
   "metadata": {},
   "outputs": [],
   "source": [
    "lp_dates = long_position_dates(df, 30)\n",
    "\n",
    "lp_buy_dates = lp_dates[0]\n",
    "lp_sell_dates = lp_dates[1]"
   ]
  },
  {
   "cell_type": "code",
   "execution_count": 11,
   "metadata": {},
   "outputs": [
    {
     "data": {
      "text/plain": [
       "(461, 461)"
      ]
     },
     "execution_count": 11,
     "metadata": {},
     "output_type": "execute_result"
    }
   ],
   "source": [
    "len(lp_buy_dates), len(lp_sell_dates)"
   ]
  },
  {
   "cell_type": "markdown",
   "metadata": {},
   "source": [
    "# Short position"
   ]
  },
  {
   "cell_type": "markdown",
   "metadata": {},
   "source": [
    "- Sell = %k or %D cross below 80\n",
    "- Buy = %k or %D cross below 20"
   ]
  },
  {
   "cell_type": "code",
   "execution_count": 12,
   "metadata": {},
   "outputs": [],
   "source": [
    "def short_position_dates(df, stop_loss_time):\n",
    "\n",
    "    buy_dates = []\n",
    "    sell_dates = []\n",
    "\n",
    "    for i in range(1, len(df)): # Taking away the first element\n",
    "\n",
    "        k_day_before = df.iloc[i-1]['%k']\n",
    "        k_today = df.iloc[i]['%k']\n",
    "\n",
    "        d_day_before = df.iloc[i-1]['%D']\n",
    "        d_today = df.iloc[i]['%D']\n",
    "        \n",
    "        # This indicate that %k crossed below 80\n",
    "        if ((k_day_before > 80) & (k_today <= 80)) | ((d_day_before > 80) & (d_today <= 80)):\n",
    "\n",
    "            try: # This is for those cases that it is on te last element of df\n",
    "\n",
    "                sell_dates.append(df.iloc[i+1].name) # Sell next day\n",
    "\n",
    "                for j in range(1, stop_loss_time+1): # Stop loss of x days or crossed below 20\n",
    "                    \n",
    "                    try:\n",
    "                        new_k_day_before = df.iloc[i+j-1]['%k']\n",
    "                        new_k_today = df.iloc[i+j]['%k']\n",
    "\n",
    "                        new_d_day_before = df.iloc[i+j-1]['%D']\n",
    "                        new_d_today = df.iloc[i+1]['%D']\n",
    "\n",
    "                        if ((new_k_day_before > 20) & (new_k_today <= 20)) | ((new_d_day_before > 20) & (new_d_today <= 20)):\n",
    "                            buy_dates.append(df.iloc[i+j+1].name) # buy next day\n",
    "                            break\n",
    "                            \n",
    "                        elif j == stop_loss_time:\n",
    "                            try:\n",
    "                                buy_dates.append(df.iloc[i+j+1].name)\n",
    "                            except:\n",
    "                                buy_dates.append(df.iloc[-1].name) # this is for operations in the nearest x days\n",
    "                    \n",
    "                    except:\n",
    "                        sell_dates.remove(df.iloc[i+1].name)\n",
    "                        \n",
    "            except:\n",
    "                'The last element error :('\n",
    "\n",
    "    return [buy_dates, sell_dates]"
   ]
  },
  {
   "cell_type": "code",
   "execution_count": 13,
   "metadata": {},
   "outputs": [],
   "source": [
    "sp_dates = short_position_dates(df, 30)\n",
    "\n",
    "sp_buy_dates = sp_dates[0]\n",
    "sp_sell_dates = sp_dates[1]"
   ]
  },
  {
   "cell_type": "code",
   "execution_count": 14,
   "metadata": {},
   "outputs": [
    {
     "data": {
      "text/plain": [
       "(560, 560)"
      ]
     },
     "execution_count": 14,
     "metadata": {},
     "output_type": "execute_result"
    }
   ],
   "source": [
    "len(sp_buy_dates), len(sp_sell_dates)"
   ]
  },
  {
   "cell_type": "markdown",
   "metadata": {},
   "source": [
    "# Comparison with buy and hold"
   ]
  },
  {
   "cell_type": "code",
   "execution_count": 15,
   "metadata": {},
   "outputs": [
    {
     "data": {
      "text/plain": [
       "7482.955995230948"
      ]
     },
     "execution_count": 15,
     "metadata": {},
     "output_type": "execute_result"
    }
   ],
   "source": [
    "buy_n_hold_return = ((df.iloc[-1]['Adj Close'] - df.iloc[0]['Adj Close']) / df.iloc[0]['Adj Close']) * 100\n",
    "buy_n_hold_return"
   ]
  },
  {
   "cell_type": "code",
   "execution_count": 16,
   "metadata": {},
   "outputs": [],
   "source": [
    "def find_returns(df, b_dates, s_dates):\n",
    "\n",
    "    operation_returns = []\n",
    "\n",
    "    for i in range(len(b_dates)):\n",
    "        \n",
    "        buy_price = df.loc[b_dates[i]]['Adj Close']\n",
    "        sell_price = df.loc[s_dates[i]]['Adj Close']\n",
    "\n",
    "        operation_return = (sell_price - buy_price) / buy_price\n",
    "\n",
    "        operation_returns.append(operation_return)\n",
    "    \n",
    "    return operation_returns"
   ]
  },
  {
   "cell_type": "code",
   "execution_count": 17,
   "metadata": {},
   "outputs": [],
   "source": [
    "lp_return = find_returns(df, lp_buy_dates, lp_sell_dates)\n",
    "sp_return = find_returns(df,sp_buy_dates, sp_sell_dates)"
   ]
  },
  {
   "cell_type": "markdown",
   "metadata": {},
   "source": [
    "- Positives and negative returns"
   ]
  },
  {
   "cell_type": "code",
   "execution_count": 18,
   "metadata": {},
   "outputs": [],
   "source": [
    "lp_win_returns = []\n",
    "lp_lost_returns = []\n",
    "\n",
    "for i in lp_return:\n",
    "    if i > 0: lp_win_returns.append(i)\n",
    "    if i < 0: lp_lost_returns.append(i)"
   ]
  },
  {
   "cell_type": "code",
   "execution_count": 19,
   "metadata": {},
   "outputs": [],
   "source": [
    "sp_win_returns = []\n",
    "sp_lost_returns = []\n",
    "\n",
    "for i in sp_return:\n",
    "    if i > 0: sp_win_returns.append(i)\n",
    "    if i < 0: sp_lost_returns.append(i)"
   ]
  },
  {
   "cell_type": "code",
   "execution_count": 20,
   "metadata": {},
   "outputs": [
    {
     "name": "stdout",
     "output_type": "stream",
     "text": [
      "Long position winning trades: 68.11%\n",
      "Long position losing trades: 31.89%\n"
     ]
    }
   ],
   "source": [
    "lp_perc_win = len(lp_win_returns) / len(lp_return) * 100\n",
    "lp_perc_lost = len(lp_lost_returns) / len(lp_return) * 100\n",
    "\n",
    "print(f'Long position winning trades: {round(lp_perc_win,2)}%')\n",
    "print(f'Long position losing trades: {round(lp_perc_lost,2)}%')"
   ]
  },
  {
   "cell_type": "code",
   "execution_count": 21,
   "metadata": {},
   "outputs": [
    {
     "name": "stdout",
     "output_type": "stream",
     "text": [
      "Short position winning trades: 56.07%\n",
      "Short position losing trades: 43.75%\n"
     ]
    }
   ],
   "source": [
    "sp_perc_win = len(sp_win_returns) / len(sp_return) * 100\n",
    "sp_perc_lost = len(sp_lost_returns) / len(sp_return) * 100\n",
    "\n",
    "print(f'Short position winning trades: {round(sp_perc_win,2)}%')\n",
    "print(f'Short position losing trades: {round(sp_perc_lost,2)}%')"
   ]
  },
  {
   "cell_type": "code",
   "execution_count": 22,
   "metadata": {},
   "outputs": [
    {
     "name": "stdout",
     "output_type": "stream",
     "text": [
      "Average of long position winning trades: 0.042% per trade\n",
      "Average of long position losing trades: -0.049% per trade\n"
     ]
    }
   ],
   "source": [
    "lp_average_win = np.mean(lp_win_returns)\n",
    "lp_average_lost = np.mean(lp_lost_returns)\n",
    "\n",
    "print(f'Average of long position winning trades: {round(lp_average_win,3)}% per trade')\n",
    "print(f'Average of long position losing trades: {round(lp_average_lost,3)}% per trade')"
   ]
  },
  {
   "cell_type": "code",
   "execution_count": 23,
   "metadata": {},
   "outputs": [
    {
     "name": "stdout",
     "output_type": "stream",
     "text": [
      "Average of short position winning trades: 0.032% per trade\n",
      "Average of short position losing trades: -0.064% per trade\n"
     ]
    }
   ],
   "source": [
    "sp_average_win = np.mean(sp_win_returns)\n",
    "sp_average_lost = np.mean(sp_lost_returns)\n",
    "\n",
    "print(f'Average of short position winning trades: {round(sp_average_win,3)}% per trade')\n",
    "print(f'Average of short position losing trades: {round(sp_average_lost,3)}% per trade')"
   ]
  },
  {
   "cell_type": "markdown",
   "metadata": {},
   "source": [
    "- Cumulative return"
   ]
  },
  {
   "cell_type": "code",
   "execution_count": 24,
   "metadata": {},
   "outputs": [
    {
     "data": {
      "text/plain": [
       "13494.15560870137"
      ]
     },
     "execution_count": 24,
     "metadata": {},
     "output_type": "execute_result"
    }
   ],
   "source": [
    "lp_cumulative_return = ((np.cumprod(1 + np.array(lp_return)) - 1) * 100)[-1]\n",
    "lp_cumulative_return"
   ]
  },
  {
   "cell_type": "code",
   "execution_count": 25,
   "metadata": {},
   "outputs": [
    {
     "data": {
      "text/plain": [
       "-99.91972705762406"
      ]
     },
     "execution_count": 25,
     "metadata": {},
     "output_type": "execute_result"
    }
   ],
   "source": [
    "sp_cumulative_return = ((np.cumprod(1 + np.array(sp_return)) - 1) * 100)[-1]\n",
    "sp_cumulative_return"
   ]
  },
  {
   "cell_type": "code",
   "execution_count": 26,
   "metadata": {},
   "outputs": [
    {
     "data": {
      "text/plain": [
       "6697.117940821873"
      ]
     },
     "execution_count": 26,
     "metadata": {},
     "output_type": "execute_result"
    }
   ],
   "source": [
    "lp_sp_cumulative_return = np.mean([lp_cumulative_return, sp_cumulative_return])\n",
    "lp_sp_cumulative_return"
   ]
  },
  {
   "cell_type": "markdown",
   "metadata": {},
   "source": [
    "- Stochastic vs Buy and Hold"
   ]
  },
  {
   "cell_type": "code",
   "execution_count": 27,
   "metadata": {},
   "outputs": [
    {
     "name": "stdout",
     "output_type": "stream",
     "text": [
      "Buy n hold return: 7482.96%\n",
      "Stochastic model return: 6697.12%\n"
     ]
    }
   ],
   "source": [
    "print(f'Buy n hold return: {round(buy_n_hold_return,2)}%')\n",
    "print(f'Stochastic model return: {round(lp_sp_cumulative_return,2)}%')"
   ]
  }
 ],
 "metadata": {
  "kernelspec": {
   "display_name": "Python 3",
   "language": "python",
   "name": "python3"
  },
  "language_info": {
   "codemirror_mode": {
    "name": "ipython",
    "version": 3
   },
   "file_extension": ".py",
   "mimetype": "text/x-python",
   "name": "python",
   "nbconvert_exporter": "python",
   "pygments_lexer": "ipython3",
   "version": "3.12.1"
  }
 },
 "nbformat": 4,
 "nbformat_minor": 2
}
