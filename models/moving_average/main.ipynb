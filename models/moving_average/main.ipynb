{
 "cells": [
  {
   "cell_type": "markdown",
   "metadata": {},
   "source": [
    "# About Moving average\n",
    "\n",
    "What is: In finance, a moving average (MA) is a stock indicator commonly used in technical analysis. The reason for calculating the moving average of a stock is to help smooth out the price data by creating a constantly updated average price."
   ]
  },
  {
   "cell_type": "markdown",
   "metadata": {},
   "source": [
    "# Importing data"
   ]
  },
  {
   "cell_type": "code",
   "execution_count": 1,
   "metadata": {},
   "outputs": [],
   "source": [
    "import pandas as pd\n",
    "import numpy as np \n",
    "import yfinance as yf \n",
    "from datetime import date, timedelta\n",
    "import warnings\n",
    "\n",
    "warnings.simplefilter(action='ignore', category=FutureWarning)\n",
    "pd.options.mode.chained_assignment = None "
   ]
  },
  {
   "cell_type": "code",
   "execution_count": 2,
   "metadata": {},
   "outputs": [
    {
     "data": {
      "text/plain": [
       "(datetime.date(2024, 2, 2), datetime.date(2004, 2, 7))"
      ]
     },
     "execution_count": 2,
     "metadata": {},
     "output_type": "execute_result"
    }
   ],
   "source": [
    "asset = 'AMZN'\n",
    "end_date = date.today()\n",
    "start_date = end_date - timedelta(365*20) # 20 years\n",
    "\n",
    "end_date, start_date"
   ]
  },
  {
   "cell_type": "code",
   "execution_count": 3,
   "metadata": {},
   "outputs": [
    {
     "name": "stderr",
     "output_type": "stream",
     "text": [
      "[*********************100%%**********************]  1 of 1 completed\n"
     ]
    }
   ],
   "source": [
    "df = yf.download(asset, start_date, end_date)\n",
    "\n",
    "df = df.dropna()"
   ]
  },
  {
   "cell_type": "code",
   "execution_count": 4,
   "metadata": {},
   "outputs": [
    {
     "data": {
      "text/html": [
       "<div>\n",
       "<style scoped>\n",
       "    .dataframe tbody tr th:only-of-type {\n",
       "        vertical-align: middle;\n",
       "    }\n",
       "\n",
       "    .dataframe tbody tr th {\n",
       "        vertical-align: top;\n",
       "    }\n",
       "\n",
       "    .dataframe thead th {\n",
       "        text-align: right;\n",
       "    }\n",
       "</style>\n",
       "<table border=\"1\" class=\"dataframe\">\n",
       "  <thead>\n",
       "    <tr style=\"text-align: right;\">\n",
       "      <th></th>\n",
       "      <th>Open</th>\n",
       "      <th>High</th>\n",
       "      <th>Low</th>\n",
       "      <th>Close</th>\n",
       "      <th>Adj Close</th>\n",
       "      <th>Volume</th>\n",
       "    </tr>\n",
       "    <tr>\n",
       "      <th>Date</th>\n",
       "      <th></th>\n",
       "      <th></th>\n",
       "      <th></th>\n",
       "      <th></th>\n",
       "      <th></th>\n",
       "      <th></th>\n",
       "    </tr>\n",
       "  </thead>\n",
       "  <tbody>\n",
       "    <tr>\n",
       "      <th>2004-02-09</th>\n",
       "      <td>2.337500</td>\n",
       "      <td>2.340000</td>\n",
       "      <td>2.285000</td>\n",
       "      <td>2.293000</td>\n",
       "      <td>2.293000</td>\n",
       "      <td>122922000</td>\n",
       "    </tr>\n",
       "    <tr>\n",
       "      <th>2004-02-10</th>\n",
       "      <td>2.292500</td>\n",
       "      <td>2.312500</td>\n",
       "      <td>2.275500</td>\n",
       "      <td>2.279500</td>\n",
       "      <td>2.279500</td>\n",
       "      <td>98980000</td>\n",
       "    </tr>\n",
       "    <tr>\n",
       "      <th>2004-02-11</th>\n",
       "      <td>2.293000</td>\n",
       "      <td>2.368000</td>\n",
       "      <td>2.277000</td>\n",
       "      <td>2.357000</td>\n",
       "      <td>2.357000</td>\n",
       "      <td>157634000</td>\n",
       "    </tr>\n",
       "    <tr>\n",
       "      <th>2004-02-12</th>\n",
       "      <td>2.346500</td>\n",
       "      <td>2.405000</td>\n",
       "      <td>2.335500</td>\n",
       "      <td>2.353000</td>\n",
       "      <td>2.353000</td>\n",
       "      <td>135144000</td>\n",
       "    </tr>\n",
       "    <tr>\n",
       "      <th>2004-02-13</th>\n",
       "      <td>2.364500</td>\n",
       "      <td>2.385000</td>\n",
       "      <td>2.312000</td>\n",
       "      <td>2.319000</td>\n",
       "      <td>2.319000</td>\n",
       "      <td>108634000</td>\n",
       "    </tr>\n",
       "    <tr>\n",
       "      <th>...</th>\n",
       "      <td>...</td>\n",
       "      <td>...</td>\n",
       "      <td>...</td>\n",
       "      <td>...</td>\n",
       "      <td>...</td>\n",
       "      <td>...</td>\n",
       "    </tr>\n",
       "    <tr>\n",
       "      <th>2024-01-26</th>\n",
       "      <td>158.419998</td>\n",
       "      <td>160.720001</td>\n",
       "      <td>157.910004</td>\n",
       "      <td>159.119995</td>\n",
       "      <td>159.119995</td>\n",
       "      <td>51047400</td>\n",
       "    </tr>\n",
       "    <tr>\n",
       "      <th>2024-01-29</th>\n",
       "      <td>159.339996</td>\n",
       "      <td>161.289993</td>\n",
       "      <td>158.899994</td>\n",
       "      <td>161.259995</td>\n",
       "      <td>161.259995</td>\n",
       "      <td>45270400</td>\n",
       "    </tr>\n",
       "    <tr>\n",
       "      <th>2024-01-30</th>\n",
       "      <td>160.699997</td>\n",
       "      <td>161.729996</td>\n",
       "      <td>158.490005</td>\n",
       "      <td>159.000000</td>\n",
       "      <td>159.000000</td>\n",
       "      <td>45207400</td>\n",
       "    </tr>\n",
       "    <tr>\n",
       "      <th>2024-01-31</th>\n",
       "      <td>157.000000</td>\n",
       "      <td>159.009995</td>\n",
       "      <td>154.809998</td>\n",
       "      <td>155.199997</td>\n",
       "      <td>155.199997</td>\n",
       "      <td>50284400</td>\n",
       "    </tr>\n",
       "    <tr>\n",
       "      <th>2024-02-01</th>\n",
       "      <td>155.869995</td>\n",
       "      <td>159.759995</td>\n",
       "      <td>155.619995</td>\n",
       "      <td>159.279999</td>\n",
       "      <td>159.279999</td>\n",
       "      <td>75180500</td>\n",
       "    </tr>\n",
       "  </tbody>\n",
       "</table>\n",
       "<p>5030 rows × 6 columns</p>\n",
       "</div>"
      ],
      "text/plain": [
       "                  Open        High         Low       Close   Adj Close  \\\n",
       "Date                                                                     \n",
       "2004-02-09    2.337500    2.340000    2.285000    2.293000    2.293000   \n",
       "2004-02-10    2.292500    2.312500    2.275500    2.279500    2.279500   \n",
       "2004-02-11    2.293000    2.368000    2.277000    2.357000    2.357000   \n",
       "2004-02-12    2.346500    2.405000    2.335500    2.353000    2.353000   \n",
       "2004-02-13    2.364500    2.385000    2.312000    2.319000    2.319000   \n",
       "...                ...         ...         ...         ...         ...   \n",
       "2024-01-26  158.419998  160.720001  157.910004  159.119995  159.119995   \n",
       "2024-01-29  159.339996  161.289993  158.899994  161.259995  161.259995   \n",
       "2024-01-30  160.699997  161.729996  158.490005  159.000000  159.000000   \n",
       "2024-01-31  157.000000  159.009995  154.809998  155.199997  155.199997   \n",
       "2024-02-01  155.869995  159.759995  155.619995  159.279999  159.279999   \n",
       "\n",
       "               Volume  \n",
       "Date                   \n",
       "2004-02-09  122922000  \n",
       "2004-02-10   98980000  \n",
       "2004-02-11  157634000  \n",
       "2004-02-12  135144000  \n",
       "2004-02-13  108634000  \n",
       "...               ...  \n",
       "2024-01-26   51047400  \n",
       "2024-01-29   45270400  \n",
       "2024-01-30   45207400  \n",
       "2024-01-31   50284400  \n",
       "2024-02-01   75180500  \n",
       "\n",
       "[5030 rows x 6 columns]"
      ]
     },
     "execution_count": 4,
     "metadata": {},
     "output_type": "execute_result"
    }
   ],
   "source": [
    "df"
   ]
  },
  {
   "cell_type": "markdown",
   "metadata": {},
   "source": [
    "# Calculating exponentially weighted moving average (EMA)"
   ]
  },
  {
   "cell_type": "code",
   "execution_count": 5,
   "metadata": {},
   "outputs": [
    {
     "data": {
      "text/html": [
       "<div>\n",
       "<style scoped>\n",
       "    .dataframe tbody tr th:only-of-type {\n",
       "        vertical-align: middle;\n",
       "    }\n",
       "\n",
       "    .dataframe tbody tr th {\n",
       "        vertical-align: top;\n",
       "    }\n",
       "\n",
       "    .dataframe thead th {\n",
       "        text-align: right;\n",
       "    }\n",
       "</style>\n",
       "<table border=\"1\" class=\"dataframe\">\n",
       "  <thead>\n",
       "    <tr style=\"text-align: right;\">\n",
       "      <th></th>\n",
       "      <th>Open</th>\n",
       "      <th>High</th>\n",
       "      <th>Low</th>\n",
       "      <th>Close</th>\n",
       "      <th>Adj Close</th>\n",
       "      <th>Volume</th>\n",
       "      <th>EMA (10)</th>\n",
       "      <th>EMA (100)</th>\n",
       "    </tr>\n",
       "    <tr>\n",
       "      <th>Date</th>\n",
       "      <th></th>\n",
       "      <th></th>\n",
       "      <th></th>\n",
       "      <th></th>\n",
       "      <th></th>\n",
       "      <th></th>\n",
       "      <th></th>\n",
       "      <th></th>\n",
       "    </tr>\n",
       "  </thead>\n",
       "  <tbody>\n",
       "    <tr>\n",
       "      <th>2004-02-09</th>\n",
       "      <td>2.337500</td>\n",
       "      <td>2.340000</td>\n",
       "      <td>2.285000</td>\n",
       "      <td>2.293000</td>\n",
       "      <td>2.293000</td>\n",
       "      <td>122922000</td>\n",
       "      <td>2.293000</td>\n",
       "      <td>2.293000</td>\n",
       "    </tr>\n",
       "    <tr>\n",
       "      <th>2004-02-10</th>\n",
       "      <td>2.292500</td>\n",
       "      <td>2.312500</td>\n",
       "      <td>2.275500</td>\n",
       "      <td>2.279500</td>\n",
       "      <td>2.279500</td>\n",
       "      <td>98980000</td>\n",
       "      <td>2.290545</td>\n",
       "      <td>2.292733</td>\n",
       "    </tr>\n",
       "    <tr>\n",
       "      <th>2004-02-11</th>\n",
       "      <td>2.293000</td>\n",
       "      <td>2.368000</td>\n",
       "      <td>2.277000</td>\n",
       "      <td>2.357000</td>\n",
       "      <td>2.357000</td>\n",
       "      <td>157634000</td>\n",
       "      <td>2.302628</td>\n",
       "      <td>2.294005</td>\n",
       "    </tr>\n",
       "    <tr>\n",
       "      <th>2004-02-12</th>\n",
       "      <td>2.346500</td>\n",
       "      <td>2.405000</td>\n",
       "      <td>2.335500</td>\n",
       "      <td>2.353000</td>\n",
       "      <td>2.353000</td>\n",
       "      <td>135144000</td>\n",
       "      <td>2.311787</td>\n",
       "      <td>2.295173</td>\n",
       "    </tr>\n",
       "    <tr>\n",
       "      <th>2004-02-13</th>\n",
       "      <td>2.364500</td>\n",
       "      <td>2.385000</td>\n",
       "      <td>2.312000</td>\n",
       "      <td>2.319000</td>\n",
       "      <td>2.319000</td>\n",
       "      <td>108634000</td>\n",
       "      <td>2.313098</td>\n",
       "      <td>2.295645</td>\n",
       "    </tr>\n",
       "    <tr>\n",
       "      <th>...</th>\n",
       "      <td>...</td>\n",
       "      <td>...</td>\n",
       "      <td>...</td>\n",
       "      <td>...</td>\n",
       "      <td>...</td>\n",
       "      <td>...</td>\n",
       "      <td>...</td>\n",
       "      <td>...</td>\n",
       "    </tr>\n",
       "    <tr>\n",
       "      <th>2024-01-26</th>\n",
       "      <td>158.419998</td>\n",
       "      <td>160.720001</td>\n",
       "      <td>157.910004</td>\n",
       "      <td>159.119995</td>\n",
       "      <td>159.119995</td>\n",
       "      <td>51047400</td>\n",
       "      <td>155.670052</td>\n",
       "      <td>143.277780</td>\n",
       "    </tr>\n",
       "    <tr>\n",
       "      <th>2024-01-29</th>\n",
       "      <td>159.339996</td>\n",
       "      <td>161.289993</td>\n",
       "      <td>158.899994</td>\n",
       "      <td>161.259995</td>\n",
       "      <td>161.259995</td>\n",
       "      <td>45270400</td>\n",
       "      <td>156.686405</td>\n",
       "      <td>143.633863</td>\n",
       "    </tr>\n",
       "    <tr>\n",
       "      <th>2024-01-30</th>\n",
       "      <td>160.699997</td>\n",
       "      <td>161.729996</td>\n",
       "      <td>158.490005</td>\n",
       "      <td>159.000000</td>\n",
       "      <td>159.000000</td>\n",
       "      <td>45207400</td>\n",
       "      <td>157.107059</td>\n",
       "      <td>143.938143</td>\n",
       "    </tr>\n",
       "    <tr>\n",
       "      <th>2024-01-31</th>\n",
       "      <td>157.000000</td>\n",
       "      <td>159.009995</td>\n",
       "      <td>154.809998</td>\n",
       "      <td>155.199997</td>\n",
       "      <td>155.199997</td>\n",
       "      <td>50284400</td>\n",
       "      <td>156.760320</td>\n",
       "      <td>144.161150</td>\n",
       "    </tr>\n",
       "    <tr>\n",
       "      <th>2024-02-01</th>\n",
       "      <td>155.869995</td>\n",
       "      <td>159.759995</td>\n",
       "      <td>155.619995</td>\n",
       "      <td>159.279999</td>\n",
       "      <td>159.279999</td>\n",
       "      <td>75180500</td>\n",
       "      <td>157.218444</td>\n",
       "      <td>144.460533</td>\n",
       "    </tr>\n",
       "  </tbody>\n",
       "</table>\n",
       "<p>5030 rows × 8 columns</p>\n",
       "</div>"
      ],
      "text/plain": [
       "                  Open        High         Low       Close   Adj Close  \\\n",
       "Date                                                                     \n",
       "2004-02-09    2.337500    2.340000    2.285000    2.293000    2.293000   \n",
       "2004-02-10    2.292500    2.312500    2.275500    2.279500    2.279500   \n",
       "2004-02-11    2.293000    2.368000    2.277000    2.357000    2.357000   \n",
       "2004-02-12    2.346500    2.405000    2.335500    2.353000    2.353000   \n",
       "2004-02-13    2.364500    2.385000    2.312000    2.319000    2.319000   \n",
       "...                ...         ...         ...         ...         ...   \n",
       "2024-01-26  158.419998  160.720001  157.910004  159.119995  159.119995   \n",
       "2024-01-29  159.339996  161.289993  158.899994  161.259995  161.259995   \n",
       "2024-01-30  160.699997  161.729996  158.490005  159.000000  159.000000   \n",
       "2024-01-31  157.000000  159.009995  154.809998  155.199997  155.199997   \n",
       "2024-02-01  155.869995  159.759995  155.619995  159.279999  159.279999   \n",
       "\n",
       "               Volume    EMA (10)   EMA (100)  \n",
       "Date                                           \n",
       "2004-02-09  122922000    2.293000    2.293000  \n",
       "2004-02-10   98980000    2.290545    2.292733  \n",
       "2004-02-11  157634000    2.302628    2.294005  \n",
       "2004-02-12  135144000    2.311787    2.295173  \n",
       "2004-02-13  108634000    2.313098    2.295645  \n",
       "...               ...         ...         ...  \n",
       "2024-01-26   51047400  155.670052  143.277780  \n",
       "2024-01-29   45270400  156.686405  143.633863  \n",
       "2024-01-30   45207400  157.107059  143.938143  \n",
       "2024-01-31   50284400  156.760320  144.161150  \n",
       "2024-02-01   75180500  157.218444  144.460533  \n",
       "\n",
       "[5030 rows x 8 columns]"
      ]
     },
     "execution_count": 5,
     "metadata": {},
     "output_type": "execute_result"
    }
   ],
   "source": [
    "short_term = 10 # 10 days\n",
    "long_term = 100 # 100 days\n",
    "\n",
    "df[f'EMA ({short_term})'] = df['Adj Close'].ewm(span=short_term, adjust=False).mean()\n",
    "df[f'EMA ({long_term})'] = df['Adj Close'].ewm(span=long_term, adjust=False).mean()\n",
    "\n",
    "df = df.dropna()\n",
    "df"
   ]
  },
  {
   "cell_type": "code",
   "execution_count": 6,
   "metadata": {},
   "outputs": [
    {
     "data": {
      "text/plain": [
       "6846.358481104157"
      ]
     },
     "execution_count": 6,
     "metadata": {},
     "output_type": "execute_result"
    }
   ],
   "source": [
    "buy_n_hold_return = ((df.iloc[-1]['Adj Close'] - df.iloc[0]['Adj Close']) / df.iloc[0]['Adj Close']) * 100\n",
    "buy_n_hold_return"
   ]
  },
  {
   "cell_type": "code",
   "execution_count": 7,
   "metadata": {},
   "outputs": [
    {
     "data": {
      "text/plain": [
       "<Axes: xlabel='Date'>"
      ]
     },
     "execution_count": 7,
     "metadata": {},
     "output_type": "execute_result"
    },
    {
     "data": {
      "image/png": "[encoded data removed]",
      "text/plain": [
       "<Figure size 640x480 with 1 Axes>"
      ]
     },
     "metadata": {},
     "output_type": "display_data"
    }
   ],
   "source": [
    "# Selected only 100 days just to see more clearly the chart\n",
    "df[['Adj Close', f'EMA ({short_term})', f'EMA ({long_term})']].tail(100).plot()"
   ]
  },
  {
   "cell_type": "markdown",
   "metadata": {},
   "source": [
    "# Long position"
   ]
  },
  {
   "cell_type": "markdown",
   "metadata": {},
   "source": [
    "- Buy = EMA (short) cross above the EMA (long)\n",
    "- sell = EMA (short) cross below the EMA (long) or stop loss days == short term * 5 (ex: 10*5 = 50)"
   ]
  },
  {
   "cell_type": "code",
   "execution_count": 8,
   "metadata": {},
   "outputs": [],
   "source": [
    "def long_position_dates(df, stop_loss_time, short_term, long_term): \n",
    "    buy_dates = []\n",
    "    sell_dates = []\n",
    "\n",
    "    for i in range(1, len(df)): # Taking away the first element\n",
    "        \n",
    "        short_day_before = df.iloc[i-1][f'EMA ({short_term})']\n",
    "        short_day = df.iloc[i][f'EMA ({short_term})']\n",
    "        long_day_before = df.iloc[i-1][f'EMA ({long_term})']\n",
    "        long_day = df.iloc[i][f'EMA ({long_term})']\n",
    "\n",
    "        # This indicate that EMA short term crossed above long term EMA\n",
    "        if (short_day_before < long_day_before) & (short_day >= long_day): \n",
    "\n",
    "            try: # This is for those cases that it is on te last element of df\n",
    "                buy_dates.append(df.iloc[i+1].name) # buy next day\n",
    "\n",
    "                for j in range(1,stop_loss_time+1): # Stop loss of x days or crossed below\n",
    "                    \n",
    "                    new_short_day_before = df.iloc[i+j-1][f'EMA ({short_term})']\n",
    "                    new_short = df.iloc[i+j][f'EMA ({short_term})']\n",
    "                    new_day_before = df.iloc[i+j-1][f'EMA ({long_term})']\n",
    "                    new_day = df.iloc[i+j][f'EMA ({long_term})']\n",
    "\n",
    "                    # This indicate that EMA short term crossed below long term EMA\n",
    "                    if (new_short_day_before > new_day_before) & (new_short <= new_day):\n",
    "\n",
    "                        sell_dates.append(df.iloc[i+j+1].name) # sell next day\n",
    "                        break\n",
    "                        \n",
    "                    elif j == stop_loss_time:\n",
    "                        try:\n",
    "                            sell_dates.append(df.iloc[i+j+1].name)\n",
    "                        except:\n",
    "                            sell_dates.append(df.iloc[-1].name) # this is for operations in the nearest x days\n",
    "            except:\n",
    "                'The last element error :('\n",
    "                \n",
    "    return [buy_dates, sell_dates]"
   ]
  },
  {
   "cell_type": "code",
   "execution_count": 9,
   "metadata": {},
   "outputs": [],
   "source": [
    "lp_date_list = long_position_dates(df, 30,short_term, long_term)\n",
    "\n",
    "lp_buy_date = lp_date_list[0]\n",
    "lp_sell_date = lp_date_list[1]"
   ]
  },
  {
   "cell_type": "code",
   "execution_count": 10,
   "metadata": {},
   "outputs": [
    {
     "data": {
      "text/plain": [
       "(52, 52)"
      ]
     },
     "execution_count": 10,
     "metadata": {},
     "output_type": "execute_result"
    }
   ],
   "source": [
    "len(lp_buy_date), len(lp_sell_date)"
   ]
  },
  {
   "cell_type": "markdown",
   "metadata": {},
   "source": [
    "# Short position"
   ]
  },
  {
   "cell_type": "markdown",
   "metadata": {},
   "source": [
    "- Sell: EMA (short) cross below the EMA (long)\n",
    "- Buy: EMA (short) cross above the EMA (long) or stop loss days == short term * 5 (ex: 10*5 = 50)"
   ]
  },
  {
   "cell_type": "code",
   "execution_count": 11,
   "metadata": {},
   "outputs": [],
   "source": [
    "def short_position_dates(df, stop_loss_time,short_term, long_term): \n",
    "    sell_dates = []\n",
    "    buy_dates = []\n",
    "\n",
    "    for i in range(1, len(df)): # Taking away the first element\n",
    "        \n",
    "        short_day_before = df.iloc[i-1][f'EMA ({short_term})']\n",
    "        short_day = df.iloc[i][f'EMA ({short_term})']\n",
    "        long_day_before = df.iloc[i-1][f'EMA ({long_term})']\n",
    "        long_day = df.iloc[i][f'EMA ({long_term})']\n",
    "\n",
    "        # This indicate that EMA short term crossed below long term EMA\n",
    "        if (short_day_before > long_day_before) & (short_day <= long_day): \n",
    "            \n",
    "            try: # This is for those cases that it is on te last element of df\n",
    "                sell_dates.append(df.iloc[i+1].name) # sell next day\n",
    "\n",
    "                for j in range(1,stop_loss_time+1): # Stop loss of x days or crossed below\n",
    "\n",
    "                    new_short_day_before = df.iloc[i+j-1][f'EMA ({short_term})']\n",
    "                    new_short = df.iloc[i+j][f'EMA ({short_term})']\n",
    "                    new_day_before = df.iloc[i+j-1][f'EMA ({long_term})']\n",
    "                    new_day = df.iloc[i+j][f'EMA ({long_term})']\n",
    "\n",
    "                    # This indicate that EMA short term crossed above long term EMA\n",
    "                    if (new_short_day_before < new_day_before) & (new_short >= new_day):\n",
    "\n",
    "                        buy_dates.append(df.iloc[i+j+1].name) # buy next day\n",
    "                        break\n",
    "                        \n",
    "                    elif j == stop_loss_time:\n",
    "                        try:\n",
    "                            buy_dates.append(df.iloc[i+j+1].name)\n",
    "                        except:\n",
    "                            buy_dates.append(df.iloc[-1].name) # this is for operations in the nearest x days\n",
    "            except:\n",
    "                'The last element error :('\n",
    "                \n",
    "    return [sell_dates, buy_dates]"
   ]
  },
  {
   "cell_type": "code",
   "execution_count": 12,
   "metadata": {},
   "outputs": [],
   "source": [
    "sp_date_list = short_position_dates(df, 30,short_term, long_term)\n",
    "\n",
    "sp_sell_date = sp_date_list[0]\n",
    "sp_buy_date = sp_date_list[1]"
   ]
  },
  {
   "cell_type": "code",
   "execution_count": 13,
   "metadata": {},
   "outputs": [
    {
     "data": {
      "text/plain": [
       "(51, 51)"
      ]
     },
     "execution_count": 13,
     "metadata": {},
     "output_type": "execute_result"
    }
   ],
   "source": [
    "len(sp_sell_date), len(sp_buy_date)"
   ]
  },
  {
   "cell_type": "markdown",
   "metadata": {},
   "source": [
    "# Comparison with buy and hold"
   ]
  },
  {
   "cell_type": "code",
   "execution_count": 14,
   "metadata": {},
   "outputs": [
    {
     "data": {
      "text/plain": [
       "6846.358481104157"
      ]
     },
     "execution_count": 14,
     "metadata": {},
     "output_type": "execute_result"
    }
   ],
   "source": [
    "buy_n_hold_return"
   ]
  },
  {
   "cell_type": "code",
   "execution_count": 15,
   "metadata": {},
   "outputs": [],
   "source": [
    "def find_returns(df, b_dates, s_dates):\n",
    "\n",
    "    operation_returns = []\n",
    "\n",
    "    for i in range(len(b_dates)):\n",
    "        \n",
    "        buy_price = df.loc[b_dates[i]]['Adj Close']\n",
    "        sell_price = df.loc[s_dates[i]]['Adj Close']\n",
    "\n",
    "        operation_return = (sell_price - buy_price) / buy_price\n",
    "\n",
    "        operation_returns.append(operation_return)\n",
    "    \n",
    "    return operation_returns"
   ]
  },
  {
   "cell_type": "code",
   "execution_count": 16,
   "metadata": {},
   "outputs": [],
   "source": [
    "lp_return = find_returns(df, lp_buy_date, lp_sell_date)\n",
    "sp_return = find_returns(df,sp_buy_date, sp_sell_date)"
   ]
  },
  {
   "cell_type": "markdown",
   "metadata": {},
   "source": [
    "- Positives and negative returns"
   ]
  },
  {
   "cell_type": "code",
   "execution_count": 17,
   "metadata": {},
   "outputs": [],
   "source": [
    "lp_win_returns = []\n",
    "lp_lost_returns = []\n",
    "\n",
    "for i in lp_return:\n",
    "    if i > 0: lp_win_returns.append(i)\n",
    "    if i < 0: lp_lost_returns.append(i)"
   ]
  },
  {
   "cell_type": "code",
   "execution_count": 18,
   "metadata": {},
   "outputs": [],
   "source": [
    "sp_win_returns = []\n",
    "sp_lost_returns = []\n",
    "\n",
    "for i in sp_return:\n",
    "    if i > 0: sp_win_returns.append(i)\n",
    "    if i < 0: sp_lost_returns.append(i)"
   ]
  },
  {
   "cell_type": "code",
   "execution_count": 19,
   "metadata": {},
   "outputs": [
    {
     "name": "stdout",
     "output_type": "stream",
     "text": [
      "Long position winning trades: 46.15%\n",
      "Long position losing trades: 53.85%\n"
     ]
    }
   ],
   "source": [
    "lp_perc_win = len(lp_win_returns) / len(lp_return) * 100\n",
    "lp_perc_lost = len(lp_lost_returns) / len(lp_return) * 100\n",
    "\n",
    "print(f'Long position winning trades: {round(lp_perc_win,2)}%')\n",
    "print(f'Long position losing trades: {round(lp_perc_lost,2)}%')"
   ]
  },
  {
   "cell_type": "code",
   "execution_count": 20,
   "metadata": {},
   "outputs": [
    {
     "name": "stdout",
     "output_type": "stream",
     "text": [
      "Short position winning trades: 33.33%\n",
      "Short position losing trades: 66.67%\n"
     ]
    }
   ],
   "source": [
    "sp_perc_win = len(sp_win_returns) / len(sp_return) * 100\n",
    "sp_perc_lost = len(sp_lost_returns) / len(sp_return) * 100\n",
    "\n",
    "print(f'Short position winning trades: {round(sp_perc_win,2)}%')\n",
    "print(f'Short position losing trades: {round(sp_perc_lost,2)}%')"
   ]
  },
  {
   "cell_type": "code",
   "execution_count": 21,
   "metadata": {},
   "outputs": [
    {
     "name": "stdout",
     "output_type": "stream",
     "text": [
      "Average of long position winning trades: 0.113% per trade\n",
      "Average of long position losing trades: -0.069% per trade\n"
     ]
    }
   ],
   "source": [
    "lp_average_win = np.mean(lp_win_returns)\n",
    "lp_average_lost = np.mean(lp_lost_returns)\n",
    "\n",
    "print(f'Average of long position winning trades: {round(lp_average_win,3)}% per trade')\n",
    "print(f'Average of long position losing trades: {round(lp_average_lost,3)}% per trade')"
   ]
  },
  {
   "cell_type": "code",
   "execution_count": 22,
   "metadata": {},
   "outputs": [
    {
     "name": "stdout",
     "output_type": "stream",
     "text": [
      "Average of short position winning trades: 0.145% per trade\n",
      "Average of short position losing trades: -0.058% per trade\n"
     ]
    }
   ],
   "source": [
    "sp_average_win = np.mean(sp_win_returns)\n",
    "sp_average_lost = np.mean(sp_lost_returns)\n",
    "\n",
    "print(f'Average of short position winning trades: {round(sp_average_win,3)}% per trade')\n",
    "print(f'Average of short position losing trades: {round(sp_average_lost,3)}% per trade')"
   ]
  },
  {
   "cell_type": "markdown",
   "metadata": {},
   "source": [
    "- Cumulative return"
   ]
  },
  {
   "cell_type": "code",
   "execution_count": 23,
   "metadata": {},
   "outputs": [
    {
     "data": {
      "text/plain": [
       "64.34895807949421"
      ]
     },
     "execution_count": 23,
     "metadata": {},
     "output_type": "execute_result"
    }
   ],
   "source": [
    "lp_cumulative_return = ((np.cumprod(1 + np.array(lp_return)) - 1) * 100)[-1]\n",
    "lp_cumulative_return"
   ]
  },
  {
   "cell_type": "code",
   "execution_count": 24,
   "metadata": {},
   "outputs": [
    {
     "data": {
      "text/plain": [
       "13.14718486633839"
      ]
     },
     "execution_count": 24,
     "metadata": {},
     "output_type": "execute_result"
    }
   ],
   "source": [
    "sp_cumulative_return = ((np.cumprod(1 + np.array(sp_return)) - 1) * 100)[-1]\n",
    "sp_cumulative_return"
   ]
  },
  {
   "cell_type": "code",
   "execution_count": 25,
   "metadata": {},
   "outputs": [
    {
     "data": {
      "text/plain": [
       "38.7480714729163"
      ]
     },
     "execution_count": 25,
     "metadata": {},
     "output_type": "execute_result"
    }
   ],
   "source": [
    "lp_sp_cumulative_return = np.mean([lp_cumulative_return, sp_cumulative_return])\n",
    "lp_sp_cumulative_return"
   ]
  },
  {
   "cell_type": "markdown",
   "metadata": {},
   "source": [
    "- EMA vs Buy and Hold"
   ]
  },
  {
   "cell_type": "code",
   "execution_count": 26,
   "metadata": {},
   "outputs": [
    {
     "name": "stdout",
     "output_type": "stream",
     "text": [
      "Buy n hold return: 6846.36%\n",
      "EMA model return: 38.75%\n"
     ]
    }
   ],
   "source": [
    "print(f'Buy n hold return: {round(buy_n_hold_return,2)}%')\n",
    "print(f'EMA model return: {round(lp_sp_cumulative_return,2)}%')"
   ]
  }
 ],
 "metadata": {
  "kernelspec": {
   "display_name": "Python 3",
   "language": "python",
   "name": "python3"
  },
  "language_info": {
   "codemirror_mode": {
    "name": "ipython",
    "version": 3
   },
   "file_extension": ".py",
   "mimetype": "text/x-python",
   "name": "python",
   "nbconvert_exporter": "python",
   "pygments_lexer": "ipython3",
   "version": "3.12.1"
  }
 },
 "nbformat": 4,
 "nbformat_minor": 2
}
