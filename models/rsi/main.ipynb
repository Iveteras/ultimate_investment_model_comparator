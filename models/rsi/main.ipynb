{
 "cells": [
  {
   "cell_type": "markdown",
   "metadata": {},
   "source": [
    "# About RSi\n",
    "\n",
    "What is: The relative strength index (RSI) is a momentum indicator used in technical analysis. RSI measures the speed and magnitude of a security's recent price changes to evaluate overvalued or undervalued conditions in the price of that security."
   ]
  },
  {
   "cell_type": "markdown",
   "metadata": {},
   "source": [
    "# Importing data"
   ]
  },
  {
   "cell_type": "code",
   "execution_count": 1,
   "metadata": {},
   "outputs": [],
   "source": [
    "import pandas as pd\n",
    "import numpy as np \n",
    "import yfinance as yf \n",
    "from datetime import date, timedelta\n",
    "import warnings\n",
    "\n",
    "warnings.simplefilter(action='ignore', category=FutureWarning)\n",
    "pd.options.mode.chained_assignment = None "
   ]
  },
  {
   "cell_type": "code",
   "execution_count": 2,
   "metadata": {},
   "outputs": [
    {
     "data": {
      "text/plain": [
       "(datetime.date(2024, 2, 2), datetime.date(2004, 2, 7))"
      ]
     },
     "execution_count": 2,
     "metadata": {},
     "output_type": "execute_result"
    }
   ],
   "source": [
    "asset = 'AMZN'\n",
    "end_date = date.today()\n",
    "start_date = end_date - timedelta(365*20) # 20 years\n",
    "\n",
    "end_date, start_date"
   ]
  },
  {
   "cell_type": "code",
   "execution_count": 3,
   "metadata": {},
   "outputs": [
    {
     "name": "stderr",
     "output_type": "stream",
     "text": [
      "[*********************100%%**********************]  1 of 1 completed\n"
     ]
    }
   ],
   "source": [
    "df = yf.download(asset, start_date, end_date)\n",
    "\n",
    "df = df.dropna()"
   ]
  },
  {
   "cell_type": "code",
   "execution_count": 4,
   "metadata": {},
   "outputs": [
    {
     "data": {
      "text/html": [
       "<div>\n",
       "<style scoped>\n",
       "    .dataframe tbody tr th:only-of-type {\n",
       "        vertical-align: middle;\n",
       "    }\n",
       "\n",
       "    .dataframe tbody tr th {\n",
       "        vertical-align: top;\n",
       "    }\n",
       "\n",
       "    .dataframe thead th {\n",
       "        text-align: right;\n",
       "    }\n",
       "</style>\n",
       "<table border=\"1\" class=\"dataframe\">\n",
       "  <thead>\n",
       "    <tr style=\"text-align: right;\">\n",
       "      <th></th>\n",
       "      <th>Open</th>\n",
       "      <th>High</th>\n",
       "      <th>Low</th>\n",
       "      <th>Close</th>\n",
       "      <th>Adj Close</th>\n",
       "      <th>Volume</th>\n",
       "    </tr>\n",
       "    <tr>\n",
       "      <th>Date</th>\n",
       "      <th></th>\n",
       "      <th></th>\n",
       "      <th></th>\n",
       "      <th></th>\n",
       "      <th></th>\n",
       "      <th></th>\n",
       "    </tr>\n",
       "  </thead>\n",
       "  <tbody>\n",
       "    <tr>\n",
       "      <th>2004-02-09</th>\n",
       "      <td>2.337500</td>\n",
       "      <td>2.340000</td>\n",
       "      <td>2.285000</td>\n",
       "      <td>2.293000</td>\n",
       "      <td>2.293000</td>\n",
       "      <td>122922000</td>\n",
       "    </tr>\n",
       "    <tr>\n",
       "      <th>2004-02-10</th>\n",
       "      <td>2.292500</td>\n",
       "      <td>2.312500</td>\n",
       "      <td>2.275500</td>\n",
       "      <td>2.279500</td>\n",
       "      <td>2.279500</td>\n",
       "      <td>98980000</td>\n",
       "    </tr>\n",
       "    <tr>\n",
       "      <th>2004-02-11</th>\n",
       "      <td>2.293000</td>\n",
       "      <td>2.368000</td>\n",
       "      <td>2.277000</td>\n",
       "      <td>2.357000</td>\n",
       "      <td>2.357000</td>\n",
       "      <td>157634000</td>\n",
       "    </tr>\n",
       "    <tr>\n",
       "      <th>2004-02-12</th>\n",
       "      <td>2.346500</td>\n",
       "      <td>2.405000</td>\n",
       "      <td>2.335500</td>\n",
       "      <td>2.353000</td>\n",
       "      <td>2.353000</td>\n",
       "      <td>135144000</td>\n",
       "    </tr>\n",
       "    <tr>\n",
       "      <th>2004-02-13</th>\n",
       "      <td>2.364500</td>\n",
       "      <td>2.385000</td>\n",
       "      <td>2.312000</td>\n",
       "      <td>2.319000</td>\n",
       "      <td>2.319000</td>\n",
       "      <td>108634000</td>\n",
       "    </tr>\n",
       "    <tr>\n",
       "      <th>...</th>\n",
       "      <td>...</td>\n",
       "      <td>...</td>\n",
       "      <td>...</td>\n",
       "      <td>...</td>\n",
       "      <td>...</td>\n",
       "      <td>...</td>\n",
       "    </tr>\n",
       "    <tr>\n",
       "      <th>2024-01-26</th>\n",
       "      <td>158.419998</td>\n",
       "      <td>160.720001</td>\n",
       "      <td>157.910004</td>\n",
       "      <td>159.119995</td>\n",
       "      <td>159.119995</td>\n",
       "      <td>51047400</td>\n",
       "    </tr>\n",
       "    <tr>\n",
       "      <th>2024-01-29</th>\n",
       "      <td>159.339996</td>\n",
       "      <td>161.289993</td>\n",
       "      <td>158.899994</td>\n",
       "      <td>161.259995</td>\n",
       "      <td>161.259995</td>\n",
       "      <td>45270400</td>\n",
       "    </tr>\n",
       "    <tr>\n",
       "      <th>2024-01-30</th>\n",
       "      <td>160.699997</td>\n",
       "      <td>161.729996</td>\n",
       "      <td>158.490005</td>\n",
       "      <td>159.000000</td>\n",
       "      <td>159.000000</td>\n",
       "      <td>45207400</td>\n",
       "    </tr>\n",
       "    <tr>\n",
       "      <th>2024-01-31</th>\n",
       "      <td>157.000000</td>\n",
       "      <td>159.009995</td>\n",
       "      <td>154.809998</td>\n",
       "      <td>155.199997</td>\n",
       "      <td>155.199997</td>\n",
       "      <td>50284400</td>\n",
       "    </tr>\n",
       "    <tr>\n",
       "      <th>2024-02-01</th>\n",
       "      <td>155.869995</td>\n",
       "      <td>159.759995</td>\n",
       "      <td>155.619995</td>\n",
       "      <td>159.279999</td>\n",
       "      <td>159.279999</td>\n",
       "      <td>75180500</td>\n",
       "    </tr>\n",
       "  </tbody>\n",
       "</table>\n",
       "<p>5030 rows × 6 columns</p>\n",
       "</div>"
      ],
      "text/plain": [
       "                  Open        High         Low       Close   Adj Close  \\\n",
       "Date                                                                     \n",
       "2004-02-09    2.337500    2.340000    2.285000    2.293000    2.293000   \n",
       "2004-02-10    2.292500    2.312500    2.275500    2.279500    2.279500   \n",
       "2004-02-11    2.293000    2.368000    2.277000    2.357000    2.357000   \n",
       "2004-02-12    2.346500    2.405000    2.335500    2.353000    2.353000   \n",
       "2004-02-13    2.364500    2.385000    2.312000    2.319000    2.319000   \n",
       "...                ...         ...         ...         ...         ...   \n",
       "2024-01-26  158.419998  160.720001  157.910004  159.119995  159.119995   \n",
       "2024-01-29  159.339996  161.289993  158.899994  161.259995  161.259995   \n",
       "2024-01-30  160.699997  161.729996  158.490005  159.000000  159.000000   \n",
       "2024-01-31  157.000000  159.009995  154.809998  155.199997  155.199997   \n",
       "2024-02-01  155.869995  159.759995  155.619995  159.279999  159.279999   \n",
       "\n",
       "               Volume  \n",
       "Date                   \n",
       "2004-02-09  122922000  \n",
       "2004-02-10   98980000  \n",
       "2004-02-11  157634000  \n",
       "2004-02-12  135144000  \n",
       "2004-02-13  108634000  \n",
       "...               ...  \n",
       "2024-01-26   51047400  \n",
       "2024-01-29   45270400  \n",
       "2024-01-30   45207400  \n",
       "2024-01-31   50284400  \n",
       "2024-02-01   75180500  \n",
       "\n",
       "[5030 rows x 6 columns]"
      ]
     },
     "execution_count": 4,
     "metadata": {},
     "output_type": "execute_result"
    }
   ],
   "source": [
    "df"
   ]
  },
  {
   "cell_type": "markdown",
   "metadata": {},
   "source": [
    "# Calculating asset returns "
   ]
  },
  {
   "cell_type": "code",
   "execution_count": 5,
   "metadata": {},
   "outputs": [],
   "source": [
    "df['Return'] = df['Adj Close'].pct_change()"
   ]
  },
  {
   "cell_type": "code",
   "execution_count": 6,
   "metadata": {},
   "outputs": [],
   "source": [
    "df = df.dropna()"
   ]
  },
  {
   "cell_type": "code",
   "execution_count": 7,
   "metadata": {},
   "outputs": [
    {
     "data": {
      "text/html": [
       "<div>\n",
       "<style scoped>\n",
       "    .dataframe tbody tr th:only-of-type {\n",
       "        vertical-align: middle;\n",
       "    }\n",
       "\n",
       "    .dataframe tbody tr th {\n",
       "        vertical-align: top;\n",
       "    }\n",
       "\n",
       "    .dataframe thead th {\n",
       "        text-align: right;\n",
       "    }\n",
       "</style>\n",
       "<table border=\"1\" class=\"dataframe\">\n",
       "  <thead>\n",
       "    <tr style=\"text-align: right;\">\n",
       "      <th></th>\n",
       "      <th>Open</th>\n",
       "      <th>High</th>\n",
       "      <th>Low</th>\n",
       "      <th>Close</th>\n",
       "      <th>Adj Close</th>\n",
       "      <th>Volume</th>\n",
       "      <th>Return</th>\n",
       "    </tr>\n",
       "    <tr>\n",
       "      <th>Date</th>\n",
       "      <th></th>\n",
       "      <th></th>\n",
       "      <th></th>\n",
       "      <th></th>\n",
       "      <th></th>\n",
       "      <th></th>\n",
       "      <th></th>\n",
       "    </tr>\n",
       "  </thead>\n",
       "  <tbody>\n",
       "    <tr>\n",
       "      <th>2017-02-08</th>\n",
       "      <td>40.634499</td>\n",
       "      <td>41.074001</td>\n",
       "      <td>40.625000</td>\n",
       "      <td>40.985500</td>\n",
       "      <td>40.985500</td>\n",
       "      <td>57160000</td>\n",
       "      <td>0.008874</td>\n",
       "    </tr>\n",
       "    <tr>\n",
       "      <th>2021-09-15</th>\n",
       "      <td>172.126007</td>\n",
       "      <td>174.270996</td>\n",
       "      <td>170.100494</td>\n",
       "      <td>173.789505</td>\n",
       "      <td>173.789505</td>\n",
       "      <td>59150000</td>\n",
       "      <td>0.007475</td>\n",
       "    </tr>\n",
       "    <tr>\n",
       "      <th>2019-03-04</th>\n",
       "      <td>84.250000</td>\n",
       "      <td>85.471497</td>\n",
       "      <td>83.718002</td>\n",
       "      <td>84.808502</td>\n",
       "      <td>84.808502</td>\n",
       "      <td>123348000</td>\n",
       "      <td>0.014620</td>\n",
       "    </tr>\n",
       "    <tr>\n",
       "      <th>2018-06-12</th>\n",
       "      <td>84.650002</td>\n",
       "      <td>84.975502</td>\n",
       "      <td>84.575996</td>\n",
       "      <td>84.937500</td>\n",
       "      <td>84.937500</td>\n",
       "      <td>45184000</td>\n",
       "      <td>0.005701</td>\n",
       "    </tr>\n",
       "  </tbody>\n",
       "</table>\n",
       "</div>"
      ],
      "text/plain": [
       "                  Open        High         Low       Close   Adj Close  \\\n",
       "Date                                                                     \n",
       "2017-02-08   40.634499   41.074001   40.625000   40.985500   40.985500   \n",
       "2021-09-15  172.126007  174.270996  170.100494  173.789505  173.789505   \n",
       "2019-03-04   84.250000   85.471497   83.718002   84.808502   84.808502   \n",
       "2018-06-12   84.650002   84.975502   84.575996   84.937500   84.937500   \n",
       "\n",
       "               Volume    Return  \n",
       "Date                             \n",
       "2017-02-08   57160000  0.008874  \n",
       "2021-09-15   59150000  0.007475  \n",
       "2019-03-04  123348000  0.014620  \n",
       "2018-06-12   45184000  0.005701  "
      ]
     },
     "execution_count": 7,
     "metadata": {},
     "output_type": "execute_result"
    }
   ],
   "source": [
    "df.sample(4)"
   ]
  },
  {
   "cell_type": "markdown",
   "metadata": {},
   "source": [
    "# Calculating average return (positive and negative)"
   ]
  },
  {
   "cell_type": "markdown",
   "metadata": {},
   "source": [
    "Here is important two things:\n",
    "- create a column with the absolute values\n",
    "- then create a moving average of 14 days (two weeks)"
   ]
  },
  {
   "cell_type": "code",
   "execution_count": 8,
   "metadata": {},
   "outputs": [],
   "source": [
    "df['Positive Returns'] = df['Return'].apply(lambda x: x if x > 0 else 0)\n",
    "df['Negative Returns'] = df['Return'].apply(lambda x: x*-1 if x <0 else 0)"
   ]
  },
  {
   "cell_type": "code",
   "execution_count": 9,
   "metadata": {},
   "outputs": [],
   "source": [
    "# PAR = Positive Average Return \n",
    "df['PAR'] = df['Positive Returns'].rolling(window = 14).mean()\n",
    "\n",
    "# NAR = Negative Average Return \n",
    "df['NAR'] = df['Negative Returns'].rolling(window = 14).mean()"
   ]
  },
  {
   "cell_type": "code",
   "execution_count": 10,
   "metadata": {},
   "outputs": [],
   "source": [
    "df = df.dropna()"
   ]
  },
  {
   "cell_type": "code",
   "execution_count": 11,
   "metadata": {},
   "outputs": [
    {
     "data": {
      "text/html": [
       "<div>\n",
       "<style scoped>\n",
       "    .dataframe tbody tr th:only-of-type {\n",
       "        vertical-align: middle;\n",
       "    }\n",
       "\n",
       "    .dataframe tbody tr th {\n",
       "        vertical-align: top;\n",
       "    }\n",
       "\n",
       "    .dataframe thead th {\n",
       "        text-align: right;\n",
       "    }\n",
       "</style>\n",
       "<table border=\"1\" class=\"dataframe\">\n",
       "  <thead>\n",
       "    <tr style=\"text-align: right;\">\n",
       "      <th></th>\n",
       "      <th>Open</th>\n",
       "      <th>High</th>\n",
       "      <th>Low</th>\n",
       "      <th>Close</th>\n",
       "      <th>Adj Close</th>\n",
       "      <th>Volume</th>\n",
       "      <th>Return</th>\n",
       "      <th>Positive Returns</th>\n",
       "      <th>Negative Returns</th>\n",
       "      <th>PAR</th>\n",
       "      <th>NAR</th>\n",
       "    </tr>\n",
       "    <tr>\n",
       "      <th>Date</th>\n",
       "      <th></th>\n",
       "      <th></th>\n",
       "      <th></th>\n",
       "      <th></th>\n",
       "      <th></th>\n",
       "      <th></th>\n",
       "      <th></th>\n",
       "      <th></th>\n",
       "      <th></th>\n",
       "      <th></th>\n",
       "      <th></th>\n",
       "    </tr>\n",
       "  </thead>\n",
       "  <tbody>\n",
       "    <tr>\n",
       "      <th>2018-06-19</th>\n",
       "      <td>85.452003</td>\n",
       "      <td>86.805496</td>\n",
       "      <td>85.019501</td>\n",
       "      <td>86.738998</td>\n",
       "      <td>86.738998</td>\n",
       "      <td>85802000</td>\n",
       "      <td>0.006375</td>\n",
       "      <td>0.006375</td>\n",
       "      <td>0.000000</td>\n",
       "      <td>0.005555</td>\n",
       "      <td>0.000848</td>\n",
       "    </tr>\n",
       "    <tr>\n",
       "      <th>2020-06-11</th>\n",
       "      <td>130.175003</td>\n",
       "      <td>133.569000</td>\n",
       "      <td>126.811501</td>\n",
       "      <td>127.898003</td>\n",
       "      <td>127.898003</td>\n",
       "      <td>116002000</td>\n",
       "      <td>-0.033802</td>\n",
       "      <td>0.000000</td>\n",
       "      <td>0.033802</td>\n",
       "      <td>0.007563</td>\n",
       "      <td>0.004269</td>\n",
       "    </tr>\n",
       "    <tr>\n",
       "      <th>2018-01-23</th>\n",
       "      <td>66.904503</td>\n",
       "      <td>68.245003</td>\n",
       "      <td>66.866997</td>\n",
       "      <td>68.126999</td>\n",
       "      <td>68.126999</td>\n",
       "      <td>103386000</td>\n",
       "      <td>0.026542</td>\n",
       "      <td>0.026542</td>\n",
       "      <td>0.000000</td>\n",
       "      <td>0.010484</td>\n",
       "      <td>0.000651</td>\n",
       "    </tr>\n",
       "    <tr>\n",
       "      <th>2006-04-17</th>\n",
       "      <td>1.823500</td>\n",
       "      <td>1.831000</td>\n",
       "      <td>1.752500</td>\n",
       "      <td>1.763500</td>\n",
       "      <td>1.763500</td>\n",
       "      <td>88844000</td>\n",
       "      <td>-0.036865</td>\n",
       "      <td>0.000000</td>\n",
       "      <td>0.036865</td>\n",
       "      <td>0.008539</td>\n",
       "      <td>0.008300</td>\n",
       "    </tr>\n",
       "  </tbody>\n",
       "</table>\n",
       "</div>"
      ],
      "text/plain": [
       "                  Open        High         Low       Close   Adj Close  \\\n",
       "Date                                                                     \n",
       "2018-06-19   85.452003   86.805496   85.019501   86.738998   86.738998   \n",
       "2020-06-11  130.175003  133.569000  126.811501  127.898003  127.898003   \n",
       "2018-01-23   66.904503   68.245003   66.866997   68.126999   68.126999   \n",
       "2006-04-17    1.823500    1.831000    1.752500    1.763500    1.763500   \n",
       "\n",
       "               Volume    Return  Positive Returns  Negative Returns       PAR  \\\n",
       "Date                                                                            \n",
       "2018-06-19   85802000  0.006375          0.006375          0.000000  0.005555   \n",
       "2020-06-11  116002000 -0.033802          0.000000          0.033802  0.007563   \n",
       "2018-01-23  103386000  0.026542          0.026542          0.000000  0.010484   \n",
       "2006-04-17   88844000 -0.036865          0.000000          0.036865  0.008539   \n",
       "\n",
       "                 NAR  \n",
       "Date                  \n",
       "2018-06-19  0.000848  \n",
       "2020-06-11  0.004269  \n",
       "2018-01-23  0.000651  \n",
       "2006-04-17  0.008300  "
      ]
     },
     "execution_count": 11,
     "metadata": {},
     "output_type": "execute_result"
    }
   ],
   "source": [
    "df.sample(4)"
   ]
  },
  {
   "cell_type": "markdown",
   "metadata": {},
   "source": [
    "# RSI"
   ]
  },
  {
   "cell_type": "markdown",
   "metadata": {},
   "source": [
    "- RSI = 100 - 100 / (1 + RS)\n",
    "- RS = PAR / NAR"
   ]
  },
  {
   "cell_type": "code",
   "execution_count": 12,
   "metadata": {},
   "outputs": [],
   "source": [
    "df['RSI'] = 100 - (100 / (1 + df['PAR']/df['NAR']))"
   ]
  },
  {
   "cell_type": "code",
   "execution_count": 13,
   "metadata": {},
   "outputs": [
    {
     "data": {
      "text/html": [
       "<div>\n",
       "<style scoped>\n",
       "    .dataframe tbody tr th:only-of-type {\n",
       "        vertical-align: middle;\n",
       "    }\n",
       "\n",
       "    .dataframe tbody tr th {\n",
       "        vertical-align: top;\n",
       "    }\n",
       "\n",
       "    .dataframe thead th {\n",
       "        text-align: right;\n",
       "    }\n",
       "</style>\n",
       "<table border=\"1\" class=\"dataframe\">\n",
       "  <thead>\n",
       "    <tr style=\"text-align: right;\">\n",
       "      <th></th>\n",
       "      <th>Open</th>\n",
       "      <th>High</th>\n",
       "      <th>Low</th>\n",
       "      <th>Close</th>\n",
       "      <th>Adj Close</th>\n",
       "      <th>Volume</th>\n",
       "      <th>Return</th>\n",
       "      <th>Positive Returns</th>\n",
       "      <th>Negative Returns</th>\n",
       "      <th>PAR</th>\n",
       "      <th>NAR</th>\n",
       "      <th>RSI</th>\n",
       "    </tr>\n",
       "    <tr>\n",
       "      <th>Date</th>\n",
       "      <th></th>\n",
       "      <th></th>\n",
       "      <th></th>\n",
       "      <th></th>\n",
       "      <th></th>\n",
       "      <th></th>\n",
       "      <th></th>\n",
       "      <th></th>\n",
       "      <th></th>\n",
       "      <th></th>\n",
       "      <th></th>\n",
       "      <th></th>\n",
       "    </tr>\n",
       "  </thead>\n",
       "  <tbody>\n",
       "    <tr>\n",
       "      <th>2021-08-09</th>\n",
       "      <td>167.180496</td>\n",
       "      <td>167.744003</td>\n",
       "      <td>166.425995</td>\n",
       "      <td>167.093506</td>\n",
       "      <td>167.093506</td>\n",
       "      <td>42964000</td>\n",
       "      <td>-0.000918</td>\n",
       "      <td>0.000000</td>\n",
       "      <td>0.000918</td>\n",
       "      <td>0.003861</td>\n",
       "      <td>0.008386</td>\n",
       "      <td>31.522996</td>\n",
       "    </tr>\n",
       "    <tr>\n",
       "      <th>2009-09-30</th>\n",
       "      <td>4.613000</td>\n",
       "      <td>4.708500</td>\n",
       "      <td>4.571500</td>\n",
       "      <td>4.668000</td>\n",
       "      <td>4.668000</td>\n",
       "      <td>170784000</td>\n",
       "      <td>0.017881</td>\n",
       "      <td>0.017881</td>\n",
       "      <td>0.000000</td>\n",
       "      <td>0.012049</td>\n",
       "      <td>0.004035</td>\n",
       "      <td>74.913393</td>\n",
       "    </tr>\n",
       "    <tr>\n",
       "      <th>2009-05-18</th>\n",
       "      <td>3.698000</td>\n",
       "      <td>3.798000</td>\n",
       "      <td>3.655000</td>\n",
       "      <td>3.797500</td>\n",
       "      <td>3.797500</td>\n",
       "      <td>136582000</td>\n",
       "      <td>0.031929</td>\n",
       "      <td>0.031929</td>\n",
       "      <td>0.000000</td>\n",
       "      <td>0.007143</td>\n",
       "      <td>0.012687</td>\n",
       "      <td>36.021139</td>\n",
       "    </tr>\n",
       "    <tr>\n",
       "      <th>2006-07-03</th>\n",
       "      <td>1.926000</td>\n",
       "      <td>1.931000</td>\n",
       "      <td>1.911500</td>\n",
       "      <td>1.930500</td>\n",
       "      <td>1.930500</td>\n",
       "      <td>28726000</td>\n",
       "      <td>-0.001810</td>\n",
       "      <td>0.000000</td>\n",
       "      <td>0.001810</td>\n",
       "      <td>0.011672</td>\n",
       "      <td>0.001279</td>\n",
       "      <td>90.124168</td>\n",
       "    </tr>\n",
       "    <tr>\n",
       "      <th>2015-03-05</th>\n",
       "      <td>19.280500</td>\n",
       "      <td>19.421000</td>\n",
       "      <td>19.194500</td>\n",
       "      <td>19.391500</td>\n",
       "      <td>19.391500</td>\n",
       "      <td>53870000</td>\n",
       "      <td>0.013352</td>\n",
       "      <td>0.013352</td>\n",
       "      <td>0.000000</td>\n",
       "      <td>0.006104</td>\n",
       "      <td>0.004048</td>\n",
       "      <td>60.125404</td>\n",
       "    </tr>\n",
       "    <tr>\n",
       "      <th>2013-06-17</th>\n",
       "      <td>13.817500</td>\n",
       "      <td>14.010000</td>\n",
       "      <td>13.782500</td>\n",
       "      <td>13.903000</td>\n",
       "      <td>13.903000</td>\n",
       "      <td>57680000</td>\n",
       "      <td>0.014855</td>\n",
       "      <td>0.014855</td>\n",
       "      <td>0.000000</td>\n",
       "      <td>0.007195</td>\n",
       "      <td>0.004275</td>\n",
       "      <td>62.728111</td>\n",
       "    </tr>\n",
       "    <tr>\n",
       "      <th>2015-12-24</th>\n",
       "      <td>33.167500</td>\n",
       "      <td>33.234001</td>\n",
       "      <td>33.029999</td>\n",
       "      <td>33.139500</td>\n",
       "      <td>33.139500</td>\n",
       "      <td>21824000</td>\n",
       "      <td>-0.001371</td>\n",
       "      <td>0.000000</td>\n",
       "      <td>0.001371</td>\n",
       "      <td>0.004817</td>\n",
       "      <td>0.005756</td>\n",
       "      <td>45.562655</td>\n",
       "    </tr>\n",
       "    <tr>\n",
       "      <th>2008-12-15</th>\n",
       "      <td>2.532500</td>\n",
       "      <td>2.547500</td>\n",
       "      <td>2.407500</td>\n",
       "      <td>2.442500</td>\n",
       "      <td>2.442500</td>\n",
       "      <td>145708000</td>\n",
       "      <td>-0.046829</td>\n",
       "      <td>0.000000</td>\n",
       "      <td>0.046829</td>\n",
       "      <td>0.025095</td>\n",
       "      <td>0.014110</td>\n",
       "      <td>64.009090</td>\n",
       "    </tr>\n",
       "  </tbody>\n",
       "</table>\n",
       "</div>"
      ],
      "text/plain": [
       "                  Open        High         Low       Close   Adj Close  \\\n",
       "Date                                                                     \n",
       "2021-08-09  167.180496  167.744003  166.425995  167.093506  167.093506   \n",
       "2009-09-30    4.613000    4.708500    4.571500    4.668000    4.668000   \n",
       "2009-05-18    3.698000    3.798000    3.655000    3.797500    3.797500   \n",
       "2006-07-03    1.926000    1.931000    1.911500    1.930500    1.930500   \n",
       "2015-03-05   19.280500   19.421000   19.194500   19.391500   19.391500   \n",
       "2013-06-17   13.817500   14.010000   13.782500   13.903000   13.903000   \n",
       "2015-12-24   33.167500   33.234001   33.029999   33.139500   33.139500   \n",
       "2008-12-15    2.532500    2.547500    2.407500    2.442500    2.442500   \n",
       "\n",
       "               Volume    Return  Positive Returns  Negative Returns       PAR  \\\n",
       "Date                                                                            \n",
       "2021-08-09   42964000 -0.000918          0.000000          0.000918  0.003861   \n",
       "2009-09-30  170784000  0.017881          0.017881          0.000000  0.012049   \n",
       "2009-05-18  136582000  0.031929          0.031929          0.000000  0.007143   \n",
       "2006-07-03   28726000 -0.001810          0.000000          0.001810  0.011672   \n",
       "2015-03-05   53870000  0.013352          0.013352          0.000000  0.006104   \n",
       "2013-06-17   57680000  0.014855          0.014855          0.000000  0.007195   \n",
       "2015-12-24   21824000 -0.001371          0.000000          0.001371  0.004817   \n",
       "2008-12-15  145708000 -0.046829          0.000000          0.046829  0.025095   \n",
       "\n",
       "                 NAR        RSI  \n",
       "Date                             \n",
       "2021-08-09  0.008386  31.522996  \n",
       "2009-09-30  0.004035  74.913393  \n",
       "2009-05-18  0.012687  36.021139  \n",
       "2006-07-03  0.001279  90.124168  \n",
       "2015-03-05  0.004048  60.125404  \n",
       "2013-06-17  0.004275  62.728111  \n",
       "2015-12-24  0.005756  45.562655  \n",
       "2008-12-15  0.014110  64.009090  "
      ]
     },
     "execution_count": 13,
     "metadata": {},
     "output_type": "execute_result"
    }
   ],
   "source": [
    "df.sample(8)"
   ]
  },
  {
   "cell_type": "code",
   "execution_count": 14,
   "metadata": {},
   "outputs": [
    {
     "data": {
      "text/plain": [
       "<Axes: xlabel='Date'>"
      ]
     },
     "execution_count": 14,
     "metadata": {},
     "output_type": "execute_result"
    },
    {
     "data": {
      "image/png": "[encoded data removed]",
      "text/plain": [
       "<Figure size 640x480 with 1 Axes>"
      ]
     },
     "metadata": {},
     "output_type": "display_data"
    }
   ],
   "source": [
    "# Selected only 100 days just to see more clearly the chart\n",
    "df[['Adj Close','RSI']].tail(100).plot()"
   ]
  },
  {
   "cell_type": "markdown",
   "metadata": {},
   "source": [
    "# Long position"
   ]
  },
  {
   "cell_type": "markdown",
   "metadata": {},
   "source": [
    "- Buy = When RSI cross above 30\n",
    "- Sell = When RSI cross above 70 or stop loss of x days"
   ]
  },
  {
   "cell_type": "code",
   "execution_count": 15,
   "metadata": {},
   "outputs": [],
   "source": [
    "def long_position_dates(df, stop_loss_time):\n",
    "\n",
    "    buy_dates = []\n",
    "    sell_dates = []\n",
    "\n",
    "    for i in range(1, len(df)): # Taking away the first element\n",
    "\n",
    "        rsi_day_before = df.iloc[i-1]['RSI']\n",
    "        rsi_today = df.iloc[i]['RSI']\n",
    "\n",
    "        # This indicate that RSI crossed above 30\n",
    "        if (rsi_day_before < 30) & (rsi_today >= 30):\n",
    "\n",
    "            try: # This is for those cases that it is on te last element of df\n",
    "                buy_dates.append(df.iloc[i+1].name) # buy next day\n",
    "\n",
    "                for j in range(1, stop_loss_time+1): # Stop loss of x days or crossed above 70\n",
    "                    \n",
    "                    try:\n",
    "                        new_rsi_day_before = df.iloc[i+j-1]['RSI']\n",
    "                        new_rsi_today = df.iloc[i+j]['RSI']\n",
    "\n",
    "                        if (new_rsi_day_before < 70) & (new_rsi_today >= 70):\n",
    "                            sell_dates.append(df.iloc[i+j+1].name) # sell next day\n",
    "                            break\n",
    "                            \n",
    "                        elif j == stop_loss_time:\n",
    "                            try:\n",
    "                                sell_dates.append(df.iloc[i+j+1].name)\n",
    "                            except:\n",
    "                                sell_dates.append(df.iloc[-1].name) # this is for operations in the nearest x days\n",
    "                    \n",
    "                    except:\n",
    "                        buy_dates.remove(df.iloc[i+1].name)\n",
    "\n",
    "            except:\n",
    "                'The last element error :('\n",
    "                \n",
    "    return [buy_dates, sell_dates]"
   ]
  },
  {
   "cell_type": "code",
   "execution_count": 16,
   "metadata": {},
   "outputs": [],
   "source": [
    "lp_dates = long_position_dates(df, 30)\n",
    "\n",
    "lp_buy_dates = lp_dates[0]\n",
    "lp_sell_dates = lp_dates[1]"
   ]
  },
  {
   "cell_type": "code",
   "execution_count": 17,
   "metadata": {},
   "outputs": [
    {
     "data": {
      "text/plain": [
       "(127, 127)"
      ]
     },
     "execution_count": 17,
     "metadata": {},
     "output_type": "execute_result"
    }
   ],
   "source": [
    "len(lp_buy_dates), len(lp_sell_dates)"
   ]
  },
  {
   "cell_type": "markdown",
   "metadata": {},
   "source": [
    "# Short position"
   ]
  },
  {
   "cell_type": "markdown",
   "metadata": {},
   "source": [
    "- Sell = RSI cross below 70\n",
    "- Buy = RSI cross below 30"
   ]
  },
  {
   "cell_type": "code",
   "execution_count": 18,
   "metadata": {},
   "outputs": [],
   "source": [
    "def short_position_dates(df, stop_loss_time):\n",
    "\n",
    "    buy_dates = []\n",
    "    sell_dates = []\n",
    "\n",
    "    for i in range(1, len(df)): # Taking away the first element\n",
    "\n",
    "        rsi_day_before = df.iloc[i-1]['RSI']\n",
    "        rsi_today = df.iloc[i]['RSI']\n",
    "        \n",
    "        # This indicate that RSI crossed below 70\n",
    "        if (rsi_day_before > 70) & (rsi_today <= 70):\n",
    "\n",
    "            try: # This is for those cases that it is on te last element of df\n",
    "\n",
    "                sell_dates.append(df.iloc[i+1].name) # Sell next day\n",
    "\n",
    "                for j in range(1, stop_loss_time+1): # Stop loss of x days or crossed below 20\n",
    "                    \n",
    "                    try:\n",
    "                        new_rsi_day_before = df.iloc[i+j-1]['RSI']\n",
    "                        new_rsi_today = df.iloc[i+j]['RSI']\n",
    "\n",
    "                        if (new_rsi_day_before > 20) & (new_rsi_today <= 20):\n",
    "                            buy_dates.append(df.iloc[i+j+1].name) # buy next day\n",
    "                            break\n",
    "                            \n",
    "                        elif j == stop_loss_time:\n",
    "                            try:\n",
    "                                buy_dates.append(df.iloc[i+j+1].name)\n",
    "                            except:\n",
    "                                buy_dates.append(df.iloc[-1].name) # this is for operations in the nearest x days\n",
    "                    \n",
    "                    except:\n",
    "                        sell_dates.remove(df.iloc[i+1].name)\n",
    "                        \n",
    "            except:\n",
    "                'The last element error :('\n",
    "\n",
    "    return [buy_dates, sell_dates]"
   ]
  },
  {
   "cell_type": "code",
   "execution_count": 19,
   "metadata": {},
   "outputs": [],
   "source": [
    "sp_dates = short_position_dates(df, 30)\n",
    "\n",
    "sp_buy_dates = sp_dates[0]\n",
    "sp_sell_dates = sp_dates[1]"
   ]
  },
  {
   "cell_type": "code",
   "execution_count": 20,
   "metadata": {},
   "outputs": [
    {
     "data": {
      "text/plain": [
       "(206, 206)"
      ]
     },
     "execution_count": 20,
     "metadata": {},
     "output_type": "execute_result"
    }
   ],
   "source": [
    "len(sp_buy_dates), len(sp_sell_dates)"
   ]
  },
  {
   "cell_type": "markdown",
   "metadata": {},
   "source": [
    "# Comparison with buy and hold"
   ]
  },
  {
   "cell_type": "code",
   "execution_count": 21,
   "metadata": {},
   "outputs": [
    {
     "data": {
      "text/plain": [
       "7313.544394905067"
      ]
     },
     "execution_count": 21,
     "metadata": {},
     "output_type": "execute_result"
    }
   ],
   "source": [
    "buy_n_hold_return = ((df.iloc[-1]['Adj Close'] - df.iloc[0]['Adj Close']) / df.iloc[0]['Adj Close']) * 100\n",
    "buy_n_hold_return"
   ]
  },
  {
   "cell_type": "code",
   "execution_count": 22,
   "metadata": {},
   "outputs": [],
   "source": [
    "def find_returns(df, b_dates, s_dates):\n",
    "\n",
    "    operation_returns = []\n",
    "\n",
    "    for i in range(len(b_dates)):\n",
    "        \n",
    "        buy_price = df.loc[b_dates[i]]['Adj Close']\n",
    "        sell_price = df.loc[s_dates[i]]['Adj Close']\n",
    "\n",
    "        operation_return = (sell_price - buy_price) / buy_price\n",
    "\n",
    "        operation_returns.append(operation_return)\n",
    "    \n",
    "    return operation_returns"
   ]
  },
  {
   "cell_type": "code",
   "execution_count": 23,
   "metadata": {},
   "outputs": [],
   "source": [
    "lp_return = find_returns(df, lp_buy_dates, lp_sell_dates)\n",
    "sp_return = find_returns(df,sp_buy_dates, sp_sell_dates)"
   ]
  },
  {
   "cell_type": "markdown",
   "metadata": {},
   "source": [
    "- Positives and negative returns"
   ]
  },
  {
   "cell_type": "code",
   "execution_count": 24,
   "metadata": {},
   "outputs": [],
   "source": [
    "lp_win_returns = []\n",
    "lp_lost_returns = []\n",
    "\n",
    "for i in lp_return:\n",
    "    if i > 0: lp_win_returns.append(i)\n",
    "    if i < 0: lp_lost_returns.append(i)"
   ]
  },
  {
   "cell_type": "code",
   "execution_count": 25,
   "metadata": {},
   "outputs": [],
   "source": [
    "sp_win_returns = []\n",
    "sp_lost_returns = []\n",
    "\n",
    "for i in sp_return:\n",
    "    if i > 0: sp_win_returns.append(i)\n",
    "    if i < 0: sp_lost_returns.append(i)"
   ]
  },
  {
   "cell_type": "code",
   "execution_count": 26,
   "metadata": {},
   "outputs": [
    {
     "name": "stdout",
     "output_type": "stream",
     "text": [
      "Long position winning trades: 72.44%\n",
      "Long position losing trades: 27.56%\n"
     ]
    }
   ],
   "source": [
    "lp_perc_win = len(lp_win_returns) / len(lp_return) * 100\n",
    "lp_perc_lost = len(lp_lost_returns) / len(lp_return) * 100\n",
    "\n",
    "print(f'Long position winning trades: {round(lp_perc_win,2)}%')\n",
    "print(f'Long position losing trades: {round(lp_perc_lost,2)}%')"
   ]
  },
  {
   "cell_type": "code",
   "execution_count": 27,
   "metadata": {},
   "outputs": [
    {
     "name": "stdout",
     "output_type": "stream",
     "text": [
      "Short position winning trades: 40.29%\n",
      "Short position losing trades: 59.71%\n"
     ]
    }
   ],
   "source": [
    "sp_perc_win = len(sp_win_returns) / len(sp_return) * 100\n",
    "sp_perc_lost = len(sp_lost_returns) / len(sp_return) * 100\n",
    "\n",
    "print(f'Short position winning trades: {round(sp_perc_win,2)}%')\n",
    "print(f'Short position losing trades: {round(sp_perc_lost,2)}%')"
   ]
  },
  {
   "cell_type": "code",
   "execution_count": 28,
   "metadata": {},
   "outputs": [
    {
     "name": "stdout",
     "output_type": "stream",
     "text": [
      "Average of long position winning trades: 0.094% per trade\n",
      "Average of long position losing trades: -0.085% per trade\n"
     ]
    }
   ],
   "source": [
    "lp_average_win = np.mean(lp_win_returns)\n",
    "lp_average_lost = np.mean(lp_lost_returns)\n",
    "\n",
    "print(f'Average of long position winning trades: {round(lp_average_win,3)}% per trade')\n",
    "print(f'Average of long position losing trades: {round(lp_average_lost,3)}% per trade')"
   ]
  },
  {
   "cell_type": "code",
   "execution_count": 29,
   "metadata": {},
   "outputs": [
    {
     "name": "stdout",
     "output_type": "stream",
     "text": [
      "Average of short position winning trades: 0.086% per trade\n",
      "Average of short position losing trades: -0.081% per trade\n"
     ]
    }
   ],
   "source": [
    "sp_average_win = np.mean(sp_win_returns)\n",
    "sp_average_lost = np.mean(sp_lost_returns)\n",
    "\n",
    "print(f'Average of short position winning trades: {round(sp_average_win,3)}% per trade')\n",
    "print(f'Average of short position losing trades: {round(sp_average_lost,3)}% per trade')"
   ]
  },
  {
   "cell_type": "markdown",
   "metadata": {},
   "source": [
    "- Cumulative return"
   ]
  },
  {
   "cell_type": "code",
   "execution_count": 30,
   "metadata": {},
   "outputs": [
    {
     "data": {
      "text/plain": [
       "12255.421021634465"
      ]
     },
     "execution_count": 30,
     "metadata": {},
     "output_type": "execute_result"
    }
   ],
   "source": [
    "lp_cumulative_return = ((np.cumprod(1 + np.array(lp_return)) - 1) * 100)[-1]\n",
    "lp_cumulative_return"
   ]
  },
  {
   "cell_type": "code",
   "execution_count": 31,
   "metadata": {},
   "outputs": [
    {
     "data": {
      "text/plain": [
       "-98.12724099196089"
      ]
     },
     "execution_count": 31,
     "metadata": {},
     "output_type": "execute_result"
    }
   ],
   "source": [
    "sp_cumulative_return = ((np.cumprod(1 + np.array(sp_return)) - 1) * 100)[-1]\n",
    "sp_cumulative_return"
   ]
  },
  {
   "cell_type": "code",
   "execution_count": 32,
   "metadata": {},
   "outputs": [
    {
     "data": {
      "text/plain": [
       "6078.646890321253"
      ]
     },
     "execution_count": 32,
     "metadata": {},
     "output_type": "execute_result"
    }
   ],
   "source": [
    "lp_sp_cumulative_return = np.mean([lp_cumulative_return, sp_cumulative_return])\n",
    "lp_sp_cumulative_return"
   ]
  },
  {
   "cell_type": "markdown",
   "metadata": {},
   "source": [
    "- RSI vs Buy and Hold"
   ]
  },
  {
   "cell_type": "code",
   "execution_count": 33,
   "metadata": {},
   "outputs": [
    {
     "name": "stdout",
     "output_type": "stream",
     "text": [
      "Buy n hold return: 7313.54%\n",
      "RSI model return: 6078.65%\n"
     ]
    }
   ],
   "source": [
    "print(f'Buy n hold return: {round(buy_n_hold_return,2)}%')\n",
    "print(f'RSI model return: {round(lp_sp_cumulative_return,2)}%')"
   ]
  }
 ],
 "metadata": {
  "kernelspec": {
   "display_name": "Python 3",
   "language": "python",
   "name": "python3"
  },
  "language_info": {
   "codemirror_mode": {
    "name": "ipython",
    "version": 3
   },
   "file_extension": ".py",
   "mimetype": "text/x-python",
   "name": "python",
   "nbconvert_exporter": "python",
   "pygments_lexer": "ipython3",
   "version": "3.12.1"
  }
 },
 "nbformat": 4,
 "nbformat_minor": 2
}
